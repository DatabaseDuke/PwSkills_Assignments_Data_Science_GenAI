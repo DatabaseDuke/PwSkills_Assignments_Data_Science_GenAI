{
 "cells": [
  {
   "cell_type": "markdown",
   "id": "8a7123a7-4cc6-4808-a68c-f376ee9fcc37",
   "metadata": {},
   "source": [
    "1. What is Python, and why is it popular?"
   ]
  },
  {
   "cell_type": "markdown",
   "id": "dc4a40a4-63bc-4070-9cae-7228bf1eddc1",
   "metadata": {},
   "source": [
    "Python is high-level, interpreted programming language known for its simplicity, readability, and versatility. It is used for various applications, including web development, data analysis, machine learning, automation, and more. Python's popularity comes from its easy-to-understand syntax, large standard library, and vast community support."
   ]
  },
  {
   "cell_type": "markdown",
   "id": "df9ff663-b873-4261-8514-198be63b6214",
   "metadata": {},
   "source": [
    "2. What is an interpreter in Python?"
   ]
  },
  {
   "cell_type": "markdown",
   "id": "8a0bebc3-1b2e-4011-964d-f79d5c7551b6",
   "metadata": {},
   "source": [
    "An interpreter in Python is a program that reads and executes the code line by line. Unlike compiled languages, where the code is converted into machine code before execution, an interpreter translates Python code into machine-readable instructions at runtime. This allows Python to be flexible and platform-independent.\n"
   ]
  },
  {
   "cell_type": "markdown",
   "id": "9048ea65-d3dc-413b-9469-76c04da22d76",
   "metadata": {},
   "source": [
    "3. What are pre-defined keywords in Python?"
   ]
  },
  {
   "cell_type": "markdown",
   "id": "1255ba63-0c59-4858-86cc-10d171cae227",
   "metadata": {},
   "source": [
    "Pre-defined keywords in Python are reserved words that have a special meaning and cannot be used as identifiers (e.g., variable names). These keywords are part of the Python syntax and are integral to the language’s functionality. Examples include if, else, for, while, import, def, True, False, etc.\n"
   ]
  },
  {
   "cell_type": "markdown",
   "id": "f658898f-9aad-4148-89eb-890b9bf27128",
   "metadata": {},
   "source": [
    "4. Can keywords be used as variable names?"
   ]
  },
  {
   "cell_type": "markdown",
   "id": "2a53825b-7f83-4e61-859e-964a4250a6c7",
   "metadata": {},
   "source": [
    "No, keywords cannot be used as variable names in Python. Since they have specific functions in the language's syntax, using them as variable names would lead to syntax errors."
   ]
  },
  {
   "cell_type": "markdown",
   "id": "eec6a0d1-5e2f-43bf-9b56-57830532cc62",
   "metadata": {},
   "source": [
    "5. What is mutability in Python?"
   ]
  },
  {
   "cell_type": "markdown",
   "id": "4a8a3798-53f3-4802-9448-dfa378b7b048",
   "metadata": {},
   "source": [
    "Mutability refers to the ability of an object to be changed after it is created. Immutable objects cannot be modified, while mutable objects can be changed. For example, lists are mutable because their elements can be changed, while strings and tuples are immutable."
   ]
  },
  {
   "cell_type": "markdown",
   "id": "1da38d51-0885-4b05-9ba7-8edd5fec62f6",
   "metadata": {},
   "source": [
    "6. Why are lists mutable, but tuples are immutable?"
   ]
  },
  {
   "cell_type": "markdown",
   "id": "1fbda885-0048-49b1-9fdc-298d5bef75cc",
   "metadata": {},
   "source": [
    "Lists are mutable because they are designed to allow modification of their contents, such as adding, removing, or changing elements. Tuples, on the other hand, are immutable by design. Once a tuple is created, its elements cannot be changed, making them useful for fixed collections of data and ensuring data integrity."
   ]
  },
  {
   "cell_type": "markdown",
   "id": "cca85907-8b64-4759-92fd-a78ae19760b8",
   "metadata": {},
   "source": [
    "7. What is the difference between “==” and “is” operators in Python?"
   ]
  },
  {
   "cell_type": "markdown",
   "id": "336a914f-dec2-400d-9550-714bf2959208",
   "metadata": {},
   "source": [
    "The == operator checks whether the values of two objects are equal.\n",
    "The is operator checks whether two objects refer to the same memory location (i.e., whether they are the exact same object).\n",
    "Example:"
   ]
  },
  {
   "cell_type": "code",
   "execution_count": 3,
   "id": "706d7068-8cbe-4f6e-82ac-0602d1d9f2cb",
   "metadata": {},
   "outputs": [
    {
     "name": "stdout",
     "output_type": "stream",
     "text": [
      "True\n",
      "False\n"
     ]
    }
   ],
   "source": [
    "a = [1, 2, 3]\n",
    "b = [1, 2, 3]\n",
    "print(a == b)  # True (values are the same)\n",
    "print(a is b)  # False (different objects in memory)"
   ]
  },
  {
   "cell_type": "markdown",
   "id": "e09e22bb-bf25-4be2-b001-9931c629dc2d",
   "metadata": {},
   "source": [
    "8. What are logical operators in Python?"
   ]
  },
  {
   "cell_type": "markdown",
   "id": "0ff69601-e35e-4af5-bbed-d7eea781bcbe",
   "metadata": {},
   "source": [
    "Logical operators in Python are used to perform logical operations and combine conditional statements:\n",
    "\n",
    "and: Returns True if both operands are true.\n",
    "or: Returns True if at least one operand is true.\n",
    "not: Reverses the logical state of its operand."
   ]
  },
  {
   "cell_type": "markdown",
   "id": "d6a99a18-6d55-4976-b5f7-4dd36ba8ab7b",
   "metadata": {},
   "source": [
    "9. What is type casting in Python?"
   ]
  },
  {
   "cell_type": "markdown",
   "id": "0e711097-955a-461d-88c5-bb74586b5257",
   "metadata": {},
   "source": [
    "Type casting is the process of converting one data type into another. In Python, this can be done using functions like int(), float(), str(), etc. Type casting is helpful when you want to ensure the correct data type for an operation.\n",
    "\n",
    "Example:"
   ]
  },
  {
   "cell_type": "code",
   "execution_count": 5,
   "id": "65475387-ecc8-43fe-8766-bed7a462c5c6",
   "metadata": {},
   "outputs": [],
   "source": [
    "x = \"123\"\n",
    "y = int(x)  # Converts string to integer"
   ]
  },
  {
   "cell_type": "markdown",
   "id": "770cf2bf-0455-41a1-a659-626839487997",
   "metadata": {},
   "source": [
    "10. What is the difference between implicit and explicit type casting?"
   ]
  },
  {
   "cell_type": "markdown",
   "id": "19ea718d-a67e-434c-bb04-8042d4b6c19b",
   "metadata": {},
   "source": [
    "Implicit Type Casting (Type Coercion): This happens automatically by Python when it converts one data type to another without the programmer's intervention (e.g., from int to float). Example: x = 5 + 2.5 → x will be automatically converted to float.\n",
    "Explicit Type Casting: This requires the programmer to manually convert the data type using casting functions. Example: x = int(5.7) → x is explicitly cast to an integer."
   ]
  },
  {
   "cell_type": "markdown",
   "id": "0d89ef0f-183d-46c4-8aa2-cd7aabaeb885",
   "metadata": {},
   "source": [
    "11. What is the purpose of conditional statements in Python?"
   ]
  },
  {
   "cell_type": "markdown",
   "id": "4eb4881f-dc5e-4f66-8ae0-9e8730aaabef",
   "metadata": {},
   "source": [
    "Conditional statements in Python allow the execution of certain blocks of code based on whether a condition is true or false. This is crucial for making decisions in a program."
   ]
  },
  {
   "cell_type": "markdown",
   "id": "3518533b-ad12-4d49-9a65-5d6d8bc41c52",
   "metadata": {},
   "source": [
    "12. How does the elif statement work?"
   ]
  },
  {
   "cell_type": "markdown",
   "id": "70663c41-4bd4-4127-b82f-0d3f47e39a24",
   "metadata": {},
   "source": [
    "The elif (short for \"else if\") statement allows checking multiple conditions in a sequence. If the first if condition is false, Python checks the elif conditions one by one until it finds a true condition or reaches the final else block."
   ]
  },
  {
   "cell_type": "code",
   "execution_count": 7,
   "id": "ed81ccbd-8003-4068-990c-63537244f3a6",
   "metadata": {},
   "outputs": [
    {
     "name": "stdout",
     "output_type": "stream",
     "text": [
      "a is positive number\n"
     ]
    }
   ],
   "source": [
    "a = 5\n",
    "if a > 0: # Execute if condition1 is true\n",
    "    print(\"a is positive number\")\n",
    "elif a < 0: # Execute if condition2 is true\n",
    "    print(\"a is negative number\")\n",
    "else: # Execute if none of the above conditions are true\n",
    "    print(\"a is 0\")"
   ]
  },
  {
   "cell_type": "markdown",
   "id": "da0cc7c3-687b-4c08-a278-94ee57f48fb0",
   "metadata": {},
   "source": [
    "13. What is the difference between for and while loops?"
   ]
  },
  {
   "cell_type": "markdown",
   "id": "45f00d9e-0b1f-4e38-88a7-247581bb0542",
   "metadata": {},
   "source": [
    "For loop: Iterates over a sequence (e.g., list, tuple, range) a fixed number of times. Example:"
   ]
  },
  {
   "cell_type": "code",
   "execution_count": 8,
   "id": "f2a49ace-cdb4-4a32-a20e-ed91620065da",
   "metadata": {},
   "outputs": [
    {
     "name": "stdout",
     "output_type": "stream",
     "text": [
      "0\n",
      "1\n",
      "2\n",
      "3\n",
      "4\n"
     ]
    }
   ],
   "source": [
    "for i in range(5):  # Loops 5 times\n",
    "    print(i)"
   ]
  },
  {
   "cell_type": "markdown",
   "id": "b9b85496-813f-4131-9147-6a8ce9fbdb65",
   "metadata": {},
   "source": [
    "While loop: Executes as long as a condition is true and continues until the condition becomes false. Example:"
   ]
  },
  {
   "cell_type": "code",
   "execution_count": 9,
   "id": "1ec850f0-cfa2-44ba-bc4d-883dbbcc6024",
   "metadata": {},
   "outputs": [
    {
     "name": "stdout",
     "output_type": "stream",
     "text": [
      "0\n",
      "1\n",
      "2\n",
      "3\n",
      "4\n"
     ]
    }
   ],
   "source": [
    "i = 0\n",
    "while i < 5:  # Loops as long as condition is true\n",
    "    print(i)\n",
    "    i += 1"
   ]
  },
  {
   "cell_type": "markdown",
   "id": "7d764112-1e25-4e89-b51f-79fc3930253f",
   "metadata": {},
   "source": [
    "14. Describe a scenario where a while loop is more suitable than a for loop."
   ]
  },
  {
   "cell_type": "markdown",
   "id": "49f713da-4c40-43ec-bef4-0ac344820dfe",
   "metadata": {},
   "source": [
    "A while loop is more suitable when you do not know the number of iterations in advance and want the loop to continue until a certain condition is met. For example, waiting for user input until it's valid or waiting for a sensor reading to meet a specific threshold. Example"
   ]
  },
  {
   "cell_type": "code",
   "execution_count": 1,
   "id": "b56b2979-6ab9-4e3a-a3dd-ea0b6d3d58a2",
   "metadata": {},
   "outputs": [
    {
     "name": "stdin",
     "output_type": "stream",
     "text": [
      "Enter number : 10\n",
      "Enter number : -2\n"
     ]
    }
   ],
   "source": [
    "a = 10\n",
    "while a > 0:\n",
    "    a = int(input(\"Enter number :\"))"
   ]
  },
  {
   "cell_type": "markdown",
   "id": "150f8bb0-3609-400a-b4e5-40540b0ccf87",
   "metadata": {},
   "source": [
    "15. Write a Python program to print \"Hello, World!"
   ]
  },
  {
   "cell_type": "code",
   "execution_count": 2,
   "id": "fba3c767-cf7a-4c29-a18b-2535b21a033b",
   "metadata": {},
   "outputs": [
    {
     "name": "stdout",
     "output_type": "stream",
     "text": [
      "Hello, World!\n"
     ]
    }
   ],
   "source": [
    "print(\"Hello, World!\")"
   ]
  },
  {
   "cell_type": "markdown",
   "id": "ad42ab13-b570-4a83-a4a4-484cf1431561",
   "metadata": {},
   "source": [
    "16. Write a Python program that displays your name and age."
   ]
  },
  {
   "cell_type": "code",
   "execution_count": 3,
   "id": "8a67ea2f-cbec-4c97-b26a-5f7f97b7af1d",
   "metadata": {},
   "outputs": [
    {
     "name": "stdout",
     "output_type": "stream",
     "text": [
      "My name is John Doe and I am 25 years old.\n"
     ]
    }
   ],
   "source": [
    "name = \"John Doe\"  # Replace with your name\n",
    "age = 25           # Replace with your age\n",
    "\n",
    "print(f\"My name is {name} and I am {age} years old.\")"
   ]
  },
  {
   "cell_type": "markdown",
   "id": "705cf807-a8ff-4a1a-9cbe-951955bc5e1f",
   "metadata": {},
   "source": [
    "17.  Write code to print all the pre-defined keywords in Python using the keyword library"
   ]
  },
  {
   "cell_type": "code",
   "execution_count": 4,
   "id": "9dbe60be-e153-4032-a65a-95684e007dfa",
   "metadata": {},
   "outputs": [
    {
     "name": "stdout",
     "output_type": "stream",
     "text": [
      "Python keywords: ['False', 'None', 'True', 'and', 'as', 'assert', 'async', 'await', 'break', 'class', 'continue', 'def', 'del', 'elif', 'else', 'except', 'finally', 'for', 'from', 'global', 'if', 'import', 'in', 'is', 'lambda', 'nonlocal', 'not', 'or', 'pass', 'raise', 'return', 'try', 'while', 'with', 'yield']\n"
     ]
    }
   ],
   "source": [
    "import keyword\n",
    "\n",
    "# Print all keywords in Python\n",
    "print(\"Python keywords:\", keyword.kwlist)"
   ]
  },
  {
   "cell_type": "markdown",
   "id": "9d0b8d88-e72e-46bc-ad53-60872309e1a2",
   "metadata": {},
   "source": [
    "18.  Write a program that checks if a given word is a Python keyword"
   ]
  },
  {
   "cell_type": "code",
   "execution_count": 8,
   "id": "85180660-10c2-4180-8f99-7e37461bd657",
   "metadata": {},
   "outputs": [
    {
     "name": "stdin",
     "output_type": "stream",
     "text": [
      "Enter a word to check if it's a Python keyword:  break\n"
     ]
    },
    {
     "name": "stdout",
     "output_type": "stream",
     "text": [
      "'break' is a Python keyword.\n"
     ]
    }
   ],
   "source": [
    "import keyword\n",
    "\n",
    "word = input(\"Enter a word to check if it's a Python keyword: \")\n",
    "\n",
    "# Check if the word is a keyword\n",
    "if keyword.iskeyword(word):\n",
    "    print(f\"'{word}' is a Python keyword.\")\n",
    "else:\n",
    "    print(f\"'{word}' is not a Python keyword.\")"
   ]
  },
  {
   "cell_type": "markdown",
   "id": "299d7156-9d15-47b6-b9b0-bf0e56a487c6",
   "metadata": {},
   "source": [
    "19.  Create a list and tuple in Python, and demonstrate how attempting to change an element works differently \n",
    "for each."
   ]
  },
  {
   "cell_type": "code",
   "execution_count": 9,
   "id": "33c36fd2-7c38-474e-b8b6-ad13fbb404ff",
   "metadata": {},
   "outputs": [
    {
     "name": "stdout",
     "output_type": "stream",
     "text": [
      "Modified list: [10, 2, 3, 4]\n",
      "Error while modifying tuple: 'tuple' object does not support item assignment\n"
     ]
    }
   ],
   "source": [
    "# Create a list and tuple\n",
    "my_list = [1, 2, 3, 4]\n",
    "my_tuple = (1, 2, 3, 4)\n",
    "\n",
    "# Try modifying an element in the list (this will work)\n",
    "my_list[0] = 10\n",
    "print(\"Modified list:\", my_list)\n",
    "\n",
    "# Try modifying an element in the tuple (this will raise an error)\n",
    "try:\n",
    "    my_tuple[0] = 10\n",
    "except TypeError as e:\n",
    "    print(\"Error while modifying tuple:\", e)"
   ]
  },
  {
   "cell_type": "markdown",
   "id": "e1e8ac2c-f02c-4180-b3a9-257ca0e41834",
   "metadata": {},
   "source": [
    "20. Write a function to demonstrate the behavior of mutable and immutable arguments."
   ]
  },
  {
   "cell_type": "code",
   "execution_count": 10,
   "id": "4585975e-513f-4e7a-80ab-4f650d09fb49",
   "metadata": {},
   "outputs": [
    {
     "name": "stdout",
     "output_type": "stream",
     "text": [
      "Before modifying immutable argument: 5\n",
      "After modifying immutable argument: 10\n",
      "Before modifying mutable argument: [1, 2, 3]\n",
      "After modifying mutable argument: [1, 2, 3, 100]\n",
      "Outside function - immutable_value: 5\n",
      "Outside function - mutable_value: [1, 2, 3, 100]\n"
     ]
    }
   ],
   "source": [
    "def modify_values(immutable_arg, mutable_arg):\n",
    "    # Trying to modify the immutable argument\n",
    "    print(\"Before modifying immutable argument:\", immutable_arg)\n",
    "    immutable_arg = 10  # Reassigning the value (this does not affect the original)\n",
    "    print(\"After modifying immutable argument:\", immutable_arg)\n",
    "\n",
    "    # Modifying the mutable argument\n",
    "    print(\"Before modifying mutable argument:\", mutable_arg)\n",
    "    mutable_arg.append(100)  # This changes the original list\n",
    "    print(\"After modifying mutable argument:\", mutable_arg)\n",
    "\n",
    "\n",
    "# Test the function\n",
    "immutable_value = 5  # Immutable type (int)\n",
    "mutable_value = [1, 2, 3]  # Mutable type (list)\n",
    "\n",
    "modify_values(immutable_value, mutable_value)\n",
    "print(\"Outside function - immutable_value:\", immutable_value)\n",
    "print(\"Outside function - mutable_value:\", mutable_value)"
   ]
  },
  {
   "cell_type": "markdown",
   "id": "73a13aec-2e2a-48ec-a9a6-828a54d8a9fe",
   "metadata": {},
   "source": [
    "21. Write a program to demonstrate the use of logical operators."
   ]
  },
  {
   "cell_type": "code",
   "execution_count": 11,
   "id": "ca249753-e803-43f5-8297-f4c5f6cd3f4a",
   "metadata": {},
   "outputs": [
    {
     "name": "stdout",
     "output_type": "stream",
     "text": [
      "a and b: False\n",
      "a or b: True\n",
      "not a: False\n",
      "a and b: 0\n",
      "a or b: 1\n",
      "not a: True\n"
     ]
    }
   ],
   "source": [
    "def logical_operations(a, b):\n",
    "    # Using logical operators to demonstrate the output\n",
    "    print(\"a and b:\", a and b)  # True if both are True\n",
    "    print(\"a or b:\", a or b)    # True if at least one is True\n",
    "    print(\"not a:\", not a)      # True if a is False\n",
    "\n",
    "# Test the function with some values\n",
    "logical_operations(True, False)\n",
    "logical_operations(0, 1)  # 0 is False, 1 is True"
   ]
  },
  {
   "cell_type": "markdown",
   "id": "e7599b0c-d43c-472a-8ef2-0bb9d12ac078",
   "metadata": {},
   "source": [
    "22. Write a Python program to convert user input from string to integer, float, and boolean types."
   ]
  },
  {
   "cell_type": "code",
   "execution_count": 12,
   "id": "dfc01250-d3b4-4fbb-918b-f56920ae9141",
   "metadata": {},
   "outputs": [
    {
     "name": "stdin",
     "output_type": "stream",
     "text": [
      "Enter a value:  12\n"
     ]
    },
    {
     "name": "stdout",
     "output_type": "stream",
     "text": [
      "Integer: 12\n",
      "Float: 12.0\n",
      "Boolean: True\n"
     ]
    }
   ],
   "source": [
    "def convert_input():\n",
    "    # Take user input as a string\n",
    "    user_input = input(\"Enter a value: \")\n",
    "\n",
    "    # Convert to integer\n",
    "    try:\n",
    "        int_value = int(user_input)\n",
    "        print(\"Integer:\", int_value)\n",
    "    except ValueError:\n",
    "        print(\"Invalid integer input.\")\n",
    "\n",
    "    # Convert to float\n",
    "    try:\n",
    "        float_value = float(user_input)\n",
    "        print(\"Float:\", float_value)\n",
    "    except ValueError:\n",
    "        print(\"Invalid float input.\")\n",
    "\n",
    "    # Convert to boolean\n",
    "    bool_value = bool(user_input)\n",
    "    print(\"Boolean:\", bool_value)\n",
    "\n",
    "# Call the function\n",
    "convert_input()"
   ]
  },
  {
   "cell_type": "markdown",
   "id": "b215f15e-165f-4000-ac5c-254ec3f80a62",
   "metadata": {},
   "source": [
    "23. Write code to demonstrate type casting with list elements."
   ]
  },
  {
   "cell_type": "code",
   "execution_count": 13,
   "id": "38213b2b-7819-4470-bfe0-2aee34ceaaf0",
   "metadata": {},
   "outputs": [
    {
     "name": "stdout",
     "output_type": "stream",
     "text": [
      "Original list: [1, '2', 3.5, True]\n",
      "List after casting to integers: [1, 2, 3, True]\n",
      "List after casting to floats: [1.0, 2.0, 3.5, 1.0]\n",
      "List after casting to strings: ['1', '2', '3.5', 'True']\n"
     ]
    }
   ],
   "source": [
    "def type_cast_list_elements():\n",
    "    # Create a list with different types\n",
    "    my_list = [1, '2', 3.5, True]\n",
    "\n",
    "    # Type cast elements\n",
    "    int_list = [int(i) if isinstance(i, (float, str)) else i for i in my_list]\n",
    "    float_list = [float(i) if isinstance(i, (int, str)) else i for i in my_list]\n",
    "    str_list = [str(i) for i in my_list]\n",
    "\n",
    "    # Display the results\n",
    "    print(\"Original list:\", my_list)\n",
    "    print(\"List after casting to integers:\", int_list)\n",
    "    print(\"List after casting to floats:\", float_list)\n",
    "    print(\"List after casting to strings:\", str_list)\n",
    "\n",
    "# Call the function\n",
    "type_cast_list_elements()"
   ]
  },
  {
   "cell_type": "markdown",
   "id": "ac0eafa9-0710-4c0d-8353-2ba2a5b218b1",
   "metadata": {},
   "source": [
    "24.  Write a program that checks if a number is positive, negative, or zero."
   ]
  },
  {
   "cell_type": "code",
   "execution_count": 14,
   "id": "22d85069-e40b-4a9e-a7a1-5b7f9d09000f",
   "metadata": {},
   "outputs": [
    {
     "name": "stdin",
     "output_type": "stream",
     "text": [
      "Enter a number:  34.22\n"
     ]
    },
    {
     "name": "stdout",
     "output_type": "stream",
     "text": [
      "34.22 is a positive number.\n"
     ]
    }
   ],
   "source": [
    "def check_number(num):\n",
    "    if num > 0:\n",
    "        print(f\"{num} is a positive number.\")\n",
    "    elif num < 0:\n",
    "        print(f\"{num} is a negative number.\")\n",
    "    else:\n",
    "        print(f\"{num} is zero.\")\n",
    "\n",
    "# Example usage\n",
    "number = float(input(\"Enter a number: \"))\n",
    "check_number(number)"
   ]
  },
  {
   "cell_type": "markdown",
   "id": "de1e67a6-c5bb-4f52-bef5-fb624cc22da9",
   "metadata": {},
   "source": [
    "25.  Write a for loop to print numbers from 1 to 10."
   ]
  },
  {
   "cell_type": "code",
   "execution_count": 16,
   "id": "004a740b-c6e8-44a4-a328-3d3550f98285",
   "metadata": {},
   "outputs": [
    {
     "name": "stdout",
     "output_type": "stream",
     "text": [
      "1\n",
      "2\n",
      "3\n",
      "4\n",
      "5\n",
      "6\n",
      "7\n",
      "8\n",
      "9\n",
      "10\n"
     ]
    }
   ],
   "source": [
    "# Using a for loop to print numbers from 1 to 10\n",
    "for i in range(1, 11):\n",
    "    print(i)"
   ]
  },
  {
   "cell_type": "markdown",
   "id": "f6bc2168-ca63-4545-b219-942cbaeded1f",
   "metadata": {},
   "source": [
    "26. Write a Python program to find the sum of all even numbers between 1 and 50."
   ]
  },
  {
   "cell_type": "code",
   "execution_count": 18,
   "id": "952c13d1-0bea-46eb-b8f4-41f5797e47ca",
   "metadata": {},
   "outputs": [
    {
     "name": "stdout",
     "output_type": "stream",
     "text": [
      "The sum of all even numbers between 1 and 50 is: 600\n"
     ]
    }
   ],
   "source": [
    "def sum_of_even_numbers():\n",
    "    total_sum = 0\n",
    "    # Loop through numbers between 1 and 50\n",
    "    for num in range(2, 50, 2):  # Start from 2, increment by 2 (even numbers)\n",
    "        total_sum += num\n",
    "    \n",
    "    print(\"The sum of all even numbers between 1 and 50 is:\", total_sum)\n",
    "\n",
    "# Call the function\n",
    "sum_of_even_numbers()"
   ]
  },
  {
   "cell_type": "markdown",
   "id": "01f9b128-3e93-4dff-81b8-be62b7d99dda",
   "metadata": {},
   "source": [
    "27. Write a program to reverse a string using a while loop."
   ]
  },
  {
   "cell_type": "code",
   "execution_count": 19,
   "id": "c34576b6-33c4-4efe-b095-a54e1df53c26",
   "metadata": {},
   "outputs": [
    {
     "name": "stdin",
     "output_type": "stream",
     "text": [
      "Enter a string to reverse:  adam\n"
     ]
    },
    {
     "name": "stdout",
     "output_type": "stream",
     "text": [
      "Reversed string: mada\n"
     ]
    }
   ],
   "source": [
    "def reverse_string(input_string):\n",
    "    reversed_string = \"\"\n",
    "    index = len(input_string) - 1  # Start from the last character\n",
    "    \n",
    "    while index >= 0:\n",
    "        reversed_string += input_string[index]  # Add each character to the reversed string\n",
    "        index -= 1  # Move to the previous character\n",
    "    \n",
    "    return reversed_string\n",
    "\n",
    "# Example usage\n",
    "user_input = input(\"Enter a string to reverse: \")\n",
    "reversed_str = reverse_string(user_input)\n",
    "print(\"Reversed string:\", reversed_str)"
   ]
  },
  {
   "cell_type": "markdown",
   "id": "9c3fac7a-f339-44af-a70a-ab23887f43ac",
   "metadata": {},
   "source": [
    "28. Write a Python program to calculate the factorial of a number provided by the user using a while loop."
   ]
  },
  {
   "cell_type": "code",
   "execution_count": 20,
   "id": "c245de83-4aae-4f45-919a-d56bc0b0b92e",
   "metadata": {},
   "outputs": [
    {
     "name": "stdin",
     "output_type": "stream",
     "text": [
      "Enter a number to calculate its factorial:  4\n"
     ]
    },
    {
     "name": "stdout",
     "output_type": "stream",
     "text": [
      "The factorial of 4 is 24.\n"
     ]
    }
   ],
   "source": [
    "def factorial(number):\n",
    "    result = 1\n",
    "    \n",
    "    while number > 0:\n",
    "        result *= number  # Multiply the result by the current number\n",
    "        number -= 1  # Decrease the number by 1\n",
    "    \n",
    "    return result\n",
    "\n",
    "# Example usage\n",
    "user_number = int(input(\"Enter a number to calculate its factorial: \"))\n",
    "fact = factorial(user_number)\n",
    "print(f\"The factorial of {user_number} is {fact}.\")"
   ]
  },
  {
   "cell_type": "code",
   "execution_count": null,
   "id": "b98067c3-9d74-4ccd-9b69-b11e836990d0",
   "metadata": {},
   "outputs": [],
   "source": []
  },
  {
   "cell_type": "code",
   "execution_count": null,
   "id": "2a2e96e6-b00c-48dc-96d8-48de698ceef0",
   "metadata": {},
   "outputs": [],
   "source": []
  },
  {
   "cell_type": "code",
   "execution_count": null,
   "id": "889a2e42-6be1-471c-ac08-73f97e2a0131",
   "metadata": {},
   "outputs": [],
   "source": []
  }
 ],
 "metadata": {
  "kernelspec": {
   "display_name": "Python 3 (ipykernel)",
   "language": "python",
   "name": "python3"
  },
  "language_info": {
   "codemirror_mode": {
    "name": "ipython",
    "version": 3
   },
   "file_extension": ".py",
   "mimetype": "text/x-python",
   "name": "python",
   "nbconvert_exporter": "python",
   "pygments_lexer": "ipython3",
   "version": "3.13.1"
  }
 },
 "nbformat": 4,
 "nbformat_minor": 5
}
