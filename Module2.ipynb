{
 "cells": [
  {
   "cell_type": "markdown",
   "id": "9405f604-db3f-4f0a-a172-f868f5c948cd",
   "metadata": {},
   "source": [
    "# 1. What are data structures, and why are they important?\n",
    "\n",
    "Data structures are ways of organizing and storing data so that it can be accessed and modified efficiently. \n",
    "They are important because they provide an efficient way to perform operations like searching, sorting, \n",
    "inserting, and deleting data. Examples of data structures include lists, tuples, sets, and dictionaries."
   ]
  },
  {
   "cell_type": "markdown",
   "id": "3f213fe8-0e8f-4b77-9f6d-6f7ebd94c2ba",
   "metadata": {},
   "source": [
    "# 2. Explain the difference between mutable and immutable data types with example\n",
    "\n",
    "- Mutable data types can be changed after they are created. Examples in Python include lists, dictionaries, and sets."
   ]
  },
  {
   "cell_type": "code",
   "execution_count": 2,
   "id": "031f9f20-f63a-4763-ac99-f097268db436",
   "metadata": {},
   "outputs": [
    {
     "name": "stdout",
     "output_type": "stream",
     "text": [
      "[1, 2, 3]\n",
      "[10, 2, 3]\n"
     ]
    }
   ],
   "source": [
    "my_list = [1, 2, 3]\n",
    "print(my_list)\n",
    "my_list[0] = 10  # Changes the first element\n",
    "print(my_list)"
   ]
  },
  {
   "cell_type": "markdown",
   "id": "81f1c79f-2cd9-4492-9045-b5c9eec0e156",
   "metadata": {},
   "source": [
    "- Immutable data types cannot be changed after they are created. Examples include strings, tuples, and frozensets."
   ]
  },
  {
   "cell_type": "code",
   "execution_count": 3,
   "id": "48940ab1-70bc-452c-8d80-e0237737a15a",
   "metadata": {},
   "outputs": [
    {
     "ename": "TypeError",
     "evalue": "'tuple' object does not support item assignment",
     "output_type": "error",
     "traceback": [
      "\u001b[1;31m---------------------------------------------------------------------------\u001b[0m",
      "\u001b[1;31mTypeError\u001b[0m                                 Traceback (most recent call last)",
      "Cell \u001b[1;32mIn[3], line 2\u001b[0m\n\u001b[0;32m      1\u001b[0m my_tuple \u001b[38;5;241m=\u001b[39m (\u001b[38;5;241m1\u001b[39m, \u001b[38;5;241m2\u001b[39m, \u001b[38;5;241m3\u001b[39m)\n\u001b[1;32m----> 2\u001b[0m \u001b[43mmy_tuple\u001b[49m\u001b[43m[\u001b[49m\u001b[38;5;241;43m0\u001b[39;49m\u001b[43m]\u001b[49m \u001b[38;5;241m=\u001b[39m \u001b[38;5;241m10\u001b[39m  \u001b[38;5;66;03m# This will raise an error because tuples are immutable\u001b[39;00m\n",
      "\u001b[1;31mTypeError\u001b[0m: 'tuple' object does not support item assignment"
     ]
    }
   ],
   "source": [
    "my_tuple = (1, 2, 3)\n",
    "my_tuple[0] = 10  # This will raise an error because tuples are immutable"
   ]
  },
  {
   "cell_type": "markdown",
   "id": "29fd1e64-453c-4d6a-bb18-464edab38f11",
   "metadata": {},
   "source": [
    "# 3. Describe how dictionaries store data\n",
    "\n",
    "Dictionaries store data in key-value pairs. The keys are unique, and they are used to retrieve the corresponding value. \n",
    "The data in a dictionary is unordered (prior to Python 3.7). Dictionaries are implemented using hash tables, which provide fast lookups."
   ]
  },
  {
   "cell_type": "code",
   "execution_count": 4,
   "id": "84548791-29ee-4100-974c-1126fabc0dc6",
   "metadata": {},
   "outputs": [
    {
     "data": {
      "text/plain": [
       "{'name': 'John', 'age': 30}"
      ]
     },
     "execution_count": 4,
     "metadata": {},
     "output_type": "execute_result"
    }
   ],
   "source": [
    "my_dict = {\"name\": \"John\", \"age\": 30}\n",
    "my_dict"
   ]
  },
  {
   "cell_type": "markdown",
   "id": "3b1f186e-75c0-4a1e-a3d3-63a5caccbd95",
   "metadata": {},
   "source": [
    "# 4. Why might you use a set instead of a list in Python\n",
    "\n",
    "You might use a set instead of a list when:\n",
    "- You need to store unique elements, as sets automatically eliminate duplicates.\n",
    "- You need to perform operations like union, intersection, and difference."
   ]
  },
  {
   "cell_type": "code",
   "execution_count": 5,
   "id": "c9f5be17-e3eb-475e-9dcc-ce8e7b96674b",
   "metadata": {},
   "outputs": [
    {
     "data": {
      "text/plain": [
       "{1, 2, 3}"
      ]
     },
     "execution_count": 5,
     "metadata": {},
     "output_type": "execute_result"
    }
   ],
   "source": [
    "my_set = {1, 2, 3, 3} \n",
    "my_set"
   ]
  },
  {
   "cell_type": "markdown",
   "id": "d9e47579-67ae-4564-b743-3961855d789d",
   "metadata": {},
   "source": [
    "# 5. What is a string in Python, and how is it different from a list\n",
    "\n",
    "A string is a sequence of characters. It is an immutable data type, meaning once created, you cannot change its elements.\n",
    "\n",
    "The main differences between strings and lists:\n",
    "- Strings are immutable; lists are mutable.\n",
    "- Strings store characters; lists can store elements of different types."
   ]
  },
  {
   "cell_type": "code",
   "execution_count": 6,
   "id": "2df85e35-092f-4c75-89a5-80dca37ae5c9",
   "metadata": {},
   "outputs": [],
   "source": [
    "my_string = \"hello\"\n",
    "my_list = [1, \"hello\", 3.14]"
   ]
  },
  {
   "cell_type": "markdown",
   "id": "5da88bf2-293a-467d-8afd-9b69b8535d14",
   "metadata": {},
   "source": [
    "# 6. How do tuples ensure data integrity in Python\n",
    "\n",
    "Tuples ensure data integrity because they are immutable. Once a tuple is created, you cannot change its contents. \n",
    "This makes tuples useful for storing fixed, unchangeable data."
   ]
  },
  {
   "cell_type": "code",
   "execution_count": 7,
   "id": "b4fddaed-b1d2-469e-81c8-3a13df2f9335",
   "metadata": {},
   "outputs": [
    {
     "ename": "TypeError",
     "evalue": "'tuple' object does not support item assignment",
     "output_type": "error",
     "traceback": [
      "\u001b[1;31m---------------------------------------------------------------------------\u001b[0m",
      "\u001b[1;31mTypeError\u001b[0m                                 Traceback (most recent call last)",
      "Cell \u001b[1;32mIn[7], line 2\u001b[0m\n\u001b[0;32m      1\u001b[0m my_tuple \u001b[38;5;241m=\u001b[39m (\u001b[38;5;241m1\u001b[39m, \u001b[38;5;241m2\u001b[39m, \u001b[38;5;241m3\u001b[39m)\n\u001b[1;32m----> 2\u001b[0m \u001b[43mmy_tuple\u001b[49m\u001b[43m[\u001b[49m\u001b[38;5;241;43m0\u001b[39;49m\u001b[43m]\u001b[49m \u001b[38;5;241m=\u001b[39m \u001b[38;5;241m10\u001b[39m  \u001b[38;5;66;03m# This will raise an error\u001b[39;00m\n",
      "\u001b[1;31mTypeError\u001b[0m: 'tuple' object does not support item assignment"
     ]
    }
   ],
   "source": [
    "my_tuple = (1, 2, 3)\n",
    "my_tuple[0] = 10  # This will raise an error"
   ]
  },
  {
   "cell_type": "markdown",
   "id": "b617f2ef-96e2-46b4-8227-42933b3588bc",
   "metadata": {},
   "source": [
    "# 7. What is a hash table, and how does it relate to dictionaries in Python\n",
    "\n",
    "A hash table is a data structure that maps keys to values using a hash function. \n",
    "Dictionaries in Python are implemented using hash tables. When you insert a key-value pair, \n",
    "Python calculates the hash of the key and uses that hash to store and retrieve the corresponding value efficiently.\n",
    "\n",
    "# 8. Can lists contain different data types in Python\n",
    "\n",
    "Yes, lists can contain different data types. Lists are ordered collections and can store any type of data, including integers, \n",
    "strings, other lists, and even dictionaries."
   ]
  },
  {
   "cell_type": "code",
   "execution_count": 8,
   "id": "d8d4f748-7a53-4397-87d9-8f6d5b232c77",
   "metadata": {},
   "outputs": [
    {
     "data": {
      "text/plain": [
       "[1, 'hello', 3.14, [1, 2], {'key': 'value'}]"
      ]
     },
     "execution_count": 8,
     "metadata": {},
     "output_type": "execute_result"
    }
   ],
   "source": [
    "my_list = [1, \"hello\", 3.14, [1, 2], {\"key\": \"value\"}]\n",
    "my_list"
   ]
  },
  {
   "cell_type": "markdown",
   "id": "c73e506b-47b7-4181-b50a-3ffb0ef0a7be",
   "metadata": {},
   "source": [
    "# 9. Explain why strings are immutable in Python\n",
    "\n",
    "Strings are immutable in Python because they are optimized for performance and memory efficiency. \n",
    "Making strings immutable ensures that they are hashable and can be used as keys in dictionaries or elements in sets.\n",
    "\n",
    "# 10. What advantages do dictionaries offer over lists for certain tasks\n",
    "\n",
    "Dictionaries offer several advantages over lists:\n",
    "- Fast lookups: You can quickly find a value using its key, with a time complexity of O(1).\n",
    "- Efficient storage: They store data in key-value pairs, making them ideal for associative arrays."
   ]
  },
  {
   "cell_type": "code",
   "execution_count": 11,
   "id": "4ab51081-c978-4248-aac3-3abe1f096578",
   "metadata": {},
   "outputs": [
    {
     "data": {
      "text/plain": [
       "'John'"
      ]
     },
     "execution_count": 11,
     "metadata": {},
     "output_type": "execute_result"
    }
   ],
   "source": [
    "my_dict = {\"name\": \"John\", \"age\": 30}\n",
    "my_dict[\"name\"]"
   ]
  },
  {
   "cell_type": "markdown",
   "id": "c826629e-5994-4ea8-bd93-b10c468d5459",
   "metadata": {},
   "source": [
    "# 11. How do sets handle duplicate values in Python\n",
    "\n",
    "Sets automatically remove duplicate values. When you try to add a duplicate element to a set, it is ignored."
   ]
  },
  {
   "cell_type": "code",
   "execution_count": 12,
   "id": "1b26a2c7-3f9d-4b4d-90e9-305d173e6698",
   "metadata": {},
   "outputs": [
    {
     "name": "stdout",
     "output_type": "stream",
     "text": [
      "{1, 2, 3}\n"
     ]
    }
   ],
   "source": [
    "my_set = {1, 2, 3, 3}\n",
    "print(my_set)  # Output: {1, 2, 3}"
   ]
  },
  {
   "cell_type": "markdown",
   "id": "449a0c80-99c1-4e0d-b7f5-cbb2201ac691",
   "metadata": {},
   "source": [
    "# 12. Describe a scenario where using a tuple would be preferable over a list\n",
    "\n",
    "A tuple would be preferable over a list when you have data that should not be modified, such as coordinates or fixed configurations."
   ]
  },
  {
   "cell_type": "code",
   "execution_count": 13,
   "id": "da34c886-662a-48eb-b116-5ef4309269c4",
   "metadata": {},
   "outputs": [],
   "source": [
    "coordinates = (10.0, 20.0)  # Coordinates should not change after creation"
   ]
  },
  {
   "cell_type": "markdown",
   "id": "81b56336-f634-4a91-a17a-0403e1d17958",
   "metadata": {},
   "source": [
    "# 13. How does the “in” keyword work differently for lists and dictionaries\n",
    "- In a list, the `in` keyword checks if an element is present in the list."
   ]
  },
  {
   "cell_type": "code",
   "execution_count": 14,
   "id": "4d34439c-93d9-49b6-9791-e57b8bb243c5",
   "metadata": {},
   "outputs": [
    {
     "name": "stdout",
     "output_type": "stream",
     "text": [
      "True\n"
     ]
    }
   ],
   "source": [
    "my_list = [1, 2, 3]\n",
    "print(2 in my_list)  # Output: True"
   ]
  },
  {
   "cell_type": "markdown",
   "id": "c911fe71-8cc7-42eb-b01d-481c500d7f5b",
   "metadata": {},
   "source": [
    "- In a dictionary, the `in` keyword checks if a key is present in the dictionary."
   ]
  },
  {
   "cell_type": "code",
   "execution_count": 15,
   "id": "13dc2486-51cd-411e-9437-475af4f45e10",
   "metadata": {},
   "outputs": [
    {
     "name": "stdout",
     "output_type": "stream",
     "text": [
      "True\n"
     ]
    }
   ],
   "source": [
    "my_dict = {\"name\": \"John\", \"age\": 30}\n",
    "print(\"name\" in my_dict)  # Output: True"
   ]
  },
  {
   "cell_type": "markdown",
   "id": "62dba60e-881d-4929-b2b5-c12d230c03bb",
   "metadata": {},
   "source": [
    "# 14. Can you modify the elements of a tuple? Explain why or why not\n",
    "\n",
    "No, you cannot modify the elements of a tuple because tuples are immutable. \n",
    "Once a tuple is created, its elements cannot be changed or reassigned.\n",
    "\n",
    "# 15. What is a nested dictionary, and give an example of its use case\n",
    "\n",
    "A nested dictionary is a dictionary where the values themselves are dictionaries."
   ]
  },
  {
   "cell_type": "code",
   "execution_count": 17,
   "id": "466e8823-4c80-4b92-a539-f5e7dc255d7a",
   "metadata": {},
   "outputs": [
    {
     "data": {
      "text/plain": [
       "{'person1': {'name': 'John', 'age': 30},\n",
       " 'person2': {'name': 'Alice', 'age': 25}}"
      ]
     },
     "execution_count": 17,
     "metadata": {},
     "output_type": "execute_result"
    }
   ],
   "source": [
    "nested_dict = {\n",
    "    \"person1\": {\"name\": \"John\", \"age\": 30},\n",
    "    \"person2\": {\"name\": \"Alice\", \"age\": 25}\n",
    "}\n",
    "nested_dict"
   ]
  },
  {
   "cell_type": "markdown",
   "id": "d12b818f-ef6d-450f-84a1-daa9f9726adf",
   "metadata": {},
   "source": [
    "# 16. Describe the time complexity of accessing elements in a dictionary\n",
    "\n",
    "The time complexity of accessing elements in a dictionary is O(1) on average because dictionaries are implemented using hash tables. \n",
    "This allows for fast retrieval of values based on keys.\n",
    "\n",
    "# 17. In what situations are lists preferred over dictionaries\n",
    "\n",
    "Lists are preferred over dictionaries when:\n",
    "- You need to store an ordered collection of items.\n",
    "- You don't need key-value pair mappings.\n",
    "- You are working with data that may contain duplicates.\n",
    "\n",
    "# 18. Why are dictionaries considered unordered, and how does that affect data retrieval\n",
    "\n",
    "Prior to Python 3.7, dictionaries were considered unordered because the order of items was not guaranteed. \n",
    "However, starting from Python 3.7, dictionaries maintain insertion order. Despite that, dictionary access is still based on keys, not order.\n",
    "\n",
    "# 19. Explain the difference between a list and a dictionary in terms of data retrieval\n",
    "\n",
    "- In a list, data is retrieved by index."
   ]
  },
  {
   "cell_type": "code",
   "execution_count": 18,
   "id": "9613398b-4308-4dc0-a0a1-7b77e8de7959",
   "metadata": {},
   "outputs": [
    {
     "name": "stdout",
     "output_type": "stream",
     "text": [
      "20\n"
     ]
    }
   ],
   "source": [
    "my_list = [10, 20, 30]\n",
    "print(my_list[1])  # Output: 20"
   ]
  },
  {
   "cell_type": "markdown",
   "id": "776d63b5-b7fd-4e26-96e4-ed0ab91d41b6",
   "metadata": {},
   "source": [
    "- In a dictionary, data is retrieved by key."
   ]
  },
  {
   "cell_type": "code",
   "execution_count": 19,
   "id": "bc419473-67a4-484f-87ab-c0a9816d4a66",
   "metadata": {},
   "outputs": [
    {
     "name": "stdout",
     "output_type": "stream",
     "text": [
      "John\n"
     ]
    }
   ],
   "source": [
    "my_dict = {\"name\": \"John\", \"age\": 30}\n",
    "print(my_dict[\"name\"])  # Output: John"
   ]
  },
  {
   "cell_type": "markdown",
   "id": "bdbbd886-4713-4d1b-b177-c44f2a93b88d",
   "metadata": {},
   "source": [
    "# 20. Write a code to create a string with your name and print it"
   ]
  },
  {
   "cell_type": "code",
   "execution_count": 20,
   "id": "0195a049-39de-4a59-aa55-2b349dc10958",
   "metadata": {},
   "outputs": [
    {
     "data": {
      "text/plain": [
       "'Bhushan'"
      ]
     },
     "execution_count": 20,
     "metadata": {},
     "output_type": "execute_result"
    }
   ],
   "source": [
    "my_name = \"Bhushan\"\n",
    "my_name"
   ]
  },
  {
   "cell_type": "markdown",
   "id": "f80b3c24-3184-49cc-9447-310600563353",
   "metadata": {},
   "source": [
    "# 21. Write a code to find the length of the string \"Hello World\""
   ]
  },
  {
   "cell_type": "code",
   "execution_count": 21,
   "id": "fb28e5a2-5c64-45a1-8b08-9d9991033785",
   "metadata": {},
   "outputs": [
    {
     "name": "stdout",
     "output_type": "stream",
     "text": [
      "Length of 'Hello World': 11\n"
     ]
    }
   ],
   "source": [
    "hello_world = \"Hello World\"\n",
    "print(\"Length of 'Hello World':\", len(hello_world))"
   ]
  },
  {
   "cell_type": "markdown",
   "id": "ee64807c-d24d-49e3-ba16-9afe15c06cdb",
   "metadata": {},
   "source": [
    "# 22. Write a code to slice the first 3 characters from the string \"Python Programming\""
   ]
  },
  {
   "cell_type": "code",
   "execution_count": 22,
   "id": "574a64b0-e5ac-4a9c-a604-c03842ec0a00",
   "metadata": {},
   "outputs": [
    {
     "name": "stdout",
     "output_type": "stream",
     "text": [
      "First 3 characters of 'Python Programming': Pyt\n"
     ]
    }
   ],
   "source": [
    "python_programming = \"Python Programming\"\n",
    "# Print the sliced string\n",
    "print(\"First 3 characters of 'Python Programming':\", python_programming[:3])"
   ]
  },
  {
   "cell_type": "markdown",
   "id": "9fd92b6f-5b5d-4920-8f61-5c0bf8f982ea",
   "metadata": {},
   "source": [
    "# 23. Write a code to convert the string \"hello\" to uppercase"
   ]
  },
  {
   "cell_type": "code",
   "execution_count": 23,
   "id": "42b16dc1-3834-42c5-bcde-37ded396eda4",
   "metadata": {},
   "outputs": [
    {
     "name": "stdout",
     "output_type": "stream",
     "text": [
      "Uppercase 'hello': HELLO\n"
     ]
    }
   ],
   "source": [
    "hello = \"hello\"\n",
    "print(\"Uppercase 'hello':\", hello.upper())"
   ]
  },
  {
   "cell_type": "markdown",
   "id": "948665b3-5d14-4d66-b8e1-5e007103187d",
   "metadata": {},
   "source": [
    "# 24. Write a code to replace the word \"apple\" with \"orange\" in the string \"I like apple\""
   ]
  },
  {
   "cell_type": "code",
   "execution_count": 26,
   "id": "c7718a58-7895-45d6-8692-edaecf5f8e45",
   "metadata": {},
   "outputs": [
    {
     "name": "stdout",
     "output_type": "stream",
     "text": [
      "Original sentence: 'I like apple' Modified sentence: 'I like orange'\n"
     ]
    }
   ],
   "source": [
    "sentence = \"I like apple\"\n",
    "print(\"Original sentence: '{0}' Modified sentence: '{1}'\".format(sentence, sentence.replace(\"apple\", \"orange\")))"
   ]
  },
  {
   "cell_type": "markdown",
   "id": "fcb88a3f-37d2-4862-bbff-ac3e467d4ce7",
   "metadata": {},
   "source": [
    "# 25. Write a code to create a list with numbers 1 to 5 and print it"
   ]
  },
  {
   "cell_type": "code",
   "execution_count": 27,
   "id": "caaece46-fb7a-4832-a4c8-2779509973f1",
   "metadata": {},
   "outputs": [
    {
     "name": "stdout",
     "output_type": "stream",
     "text": [
      "List of numbers: [1, 2, 3, 4, 5]\n"
     ]
    }
   ],
   "source": [
    "numbers = [1, 2, 3, 4, 5]\n",
    "print(\"List of numbers:\", numbers)"
   ]
  },
  {
   "cell_type": "markdown",
   "id": "7b8a063c-1986-48c1-8f84-432b3bc27558",
   "metadata": {},
   "source": [
    "# 26. Write a code to append the number 10 to the list [1, 2, 3, 4]"
   ]
  },
  {
   "cell_type": "code",
   "execution_count": 28,
   "id": "5eefa9ec-51b7-44b3-aab5-11c129ddb9eb",
   "metadata": {},
   "outputs": [
    {
     "name": "stdout",
     "output_type": "stream",
     "text": [
      "List after appending 10: [1, 2, 3, 4, 10]\n"
     ]
    }
   ],
   "source": [
    "numbers_list = [1, 2, 3, 4]\n",
    "numbers_list.append(10)\n",
    "print(\"List after appending 10:\", numbers_list)"
   ]
  },
  {
   "cell_type": "markdown",
   "id": "2f711360-e2c5-45d5-87c6-99a6f99d598b",
   "metadata": {},
   "source": [
    "# 27. Write a code to remove the number 3 from the list [1, 2, 3, 4, 5]"
   ]
  },
  {
   "cell_type": "code",
   "execution_count": 29,
   "id": "7fd4dfde-6b3e-49ca-b250-fe6385e2b4d2",
   "metadata": {},
   "outputs": [
    {
     "name": "stdout",
     "output_type": "stream",
     "text": [
      "List after removing 3: [1, 2, 4, 5]\n"
     ]
    }
   ],
   "source": [
    "numbers_list_2 = [1, 2, 3, 4, 5]\n",
    "numbers_list_2.remove(3)\n",
    "print(\"List after removing 3:\", numbers_list_2)"
   ]
  },
  {
   "cell_type": "markdown",
   "id": "dc91ca65-117a-455c-82d6-b94e58caa4f8",
   "metadata": {},
   "source": [
    "# 28. Write a code to access the second element in the list ['a', 'b', 'c', 'd']"
   ]
  },
  {
   "cell_type": "code",
   "execution_count": 30,
   "id": "d9e6dc73-361a-49a2-90c4-eaed1061d57f",
   "metadata": {},
   "outputs": [
    {
     "name": "stdout",
     "output_type": "stream",
     "text": [
      "Second element: b\n"
     ]
    }
   ],
   "source": [
    "my_list = ['a', 'b', 'c', 'd']\n",
    "second_element = my_list[1]\n",
    "print(\"Second element:\", second_element)"
   ]
  },
  {
   "cell_type": "markdown",
   "id": "aeb11c23-e841-459f-bbbc-6833a3fc44c5",
   "metadata": {},
   "source": [
    "# 29. Write a code to reverse the list [10, 20, 30, 40, 50]"
   ]
  },
  {
   "cell_type": "code",
   "execution_count": 31,
   "id": "c8f92257-e5b1-4a1c-b0ea-2c579f534b3e",
   "metadata": {},
   "outputs": [
    {
     "name": "stdout",
     "output_type": "stream",
     "text": [
      "Reversed list: [50, 40, 30, 20, 10]\n"
     ]
    }
   ],
   "source": [
    "my_list_2 = [10, 20, 30, 40, 50]\n",
    "reversed_list = my_list_2[::-1]\n",
    "print(\"Reversed list:\", reversed_list)"
   ]
  },
  {
   "cell_type": "markdown",
   "id": "7cce441d-7bdb-4e8e-8756-e4878efc8a4a",
   "metadata": {},
   "source": [
    "# 30. Write a code to create a tuple with the elements 10, 20, 30 and print it."
   ]
  },
  {
   "cell_type": "code",
   "execution_count": 32,
   "id": "e60bac36-d28f-46a8-a9c9-6550aa6c6f3c",
   "metadata": {},
   "outputs": [
    {
     "name": "stdout",
     "output_type": "stream",
     "text": [
      "Tuple: (10, 20, 30)\n"
     ]
    }
   ],
   "source": [
    "my_tuple = (10, 20, 30)\n",
    "print(\"Tuple:\", my_tuple)"
   ]
  },
  {
   "cell_type": "markdown",
   "id": "4bbe9e89-8620-4633-aac4-1207f98e28af",
   "metadata": {},
   "source": [
    "# 31. Write a code to access the first element of the tuple ('apple', 'banana', 'cherry')."
   ]
  },
  {
   "cell_type": "code",
   "execution_count": 33,
   "id": "a9fd5df7-07ab-4fc5-aead-675cb2cf9fd8",
   "metadata": {},
   "outputs": [
    {
     "name": "stdout",
     "output_type": "stream",
     "text": [
      "First element of the tuple: apple\n"
     ]
    }
   ],
   "source": [
    "my_tuple_2 = ('apple', 'banana', 'cherry')\n",
    "first_element = my_tuple_2[0]\n",
    "print(\"First element of the tuple:\", first_element)"
   ]
  },
  {
   "cell_type": "markdown",
   "id": "e9c62516-63a7-4a9d-8438-21ba1223a92f",
   "metadata": {},
   "source": [
    "# 32. Write a code to count how many times the number 2 appears in the tuple (1, 2, 3, 2, 4, 2)."
   ]
  },
  {
   "cell_type": "code",
   "execution_count": 34,
   "id": "4e1bd065-f678-4f86-8dd6-e6aefe1eb9cc",
   "metadata": {},
   "outputs": [
    {
     "name": "stdout",
     "output_type": "stream",
     "text": [
      "Count of 2 in the tuple: 3\n"
     ]
    }
   ],
   "source": [
    "my_tuple_3 = (1, 2, 3, 2, 4, 2)\n",
    "count_of_two = my_tuple_3.count(2)\n",
    "print(\"Count of 2 in the tuple:\", count_of_two)"
   ]
  },
  {
   "cell_type": "markdown",
   "id": "b880f45c-59a2-4bc8-ba30-12ee8b543c31",
   "metadata": {},
   "source": [
    "# 33. Write a code to find the index of the element \"cat\" in the tuple ('dog', 'cat', 'rabbit')."
   ]
  },
  {
   "cell_type": "code",
   "execution_count": 35,
   "id": "d232491a-fbe4-47e3-8734-e67b741b88d3",
   "metadata": {},
   "outputs": [
    {
     "name": "stdout",
     "output_type": "stream",
     "text": [
      "Index of 'cat': 1\n"
     ]
    }
   ],
   "source": [
    "my_tuple_4 = ('dog', 'cat', 'rabbit')\n",
    "index_of_cat = my_tuple_4.index('cat')\n",
    "print(\"Index of 'cat':\", index_of_cat)"
   ]
  },
  {
   "cell_type": "markdown",
   "id": "c9b9ccb3-08d7-42a7-b4f2-d07001603121",
   "metadata": {},
   "source": [
    "# 34. Write a code to check if the element \"banana\" is in the tuple ('apple', 'orange', 'banana')."
   ]
  },
  {
   "cell_type": "code",
   "execution_count": 36,
   "id": "8aca0c1c-4a8c-4624-8fff-2ecc8921dc41",
   "metadata": {},
   "outputs": [
    {
     "name": "stdout",
     "output_type": "stream",
     "text": [
      "Is 'banana' in the tuple? True\n"
     ]
    }
   ],
   "source": [
    "my_tuple_5 = ('apple', 'orange', 'banana')\n",
    "is_banana_in_tuple = 'banana' in my_tuple_5\n",
    "print(\"Is 'banana' in the tuple?\", is_banana_in_tuple)"
   ]
  },
  {
   "cell_type": "markdown",
   "id": "eaabbeaf-7047-4e25-b187-173a7cd99197",
   "metadata": {},
   "source": [
    "# 35. Write a code to create a set with the elements 1, 2, 3, 4, 5 and print it."
   ]
  },
  {
   "cell_type": "code",
   "execution_count": 37,
   "id": "aa830cea-e919-422f-987a-665a4d459138",
   "metadata": {},
   "outputs": [
    {
     "name": "stdout",
     "output_type": "stream",
     "text": [
      "Set with elements 1, 2, 3, 4, 5: {1, 2, 3, 4, 5}\n"
     ]
    }
   ],
   "source": [
    "my_set = {1, 2, 3, 4, 5}\n",
    "print(\"Set with elements 1, 2, 3, 4, 5:\", my_set)"
   ]
  },
  {
   "cell_type": "markdown",
   "id": "3e5703f7-63d4-4f0f-89c8-f65abf31c687",
   "metadata": {},
   "source": [
    "# 36. Write a code to add the element 6 to the set {1, 2, 3, 4}"
   ]
  },
  {
   "cell_type": "code",
   "execution_count": 38,
   "id": "00b83f6b-07bb-49a2-a9cb-7cb0c78b37fc",
   "metadata": {},
   "outputs": [
    {
     "name": "stdout",
     "output_type": "stream",
     "text": [
      "Set after adding 6: {1, 2, 3, 4, 6}\n"
     ]
    }
   ],
   "source": [
    "my_set_2 = {1, 2, 3, 4}\n",
    "my_set_2.add(6)\n",
    "print(\"Set after adding 6:\", my_set_2)"
   ]
  },
  {
   "cell_type": "markdown",
   "id": "c04f6311-326a-4f37-8153-f6d1b9f565d1",
   "metadata": {},
   "source": [
    "# 37. Write a code to create a tuple with the elements 10, 20, 30 and print it."
   ]
  },
  {
   "cell_type": "code",
   "execution_count": 39,
   "id": "5fc40985-5702-447c-a916-785f84fffdc2",
   "metadata": {},
   "outputs": [
    {
     "name": "stdout",
     "output_type": "stream",
     "text": [
      "Tuple with elements 10, 20, 30: (10, 20, 30)\n"
     ]
    }
   ],
   "source": [
    "my_tuple = (10, 20, 30)\n",
    "print(\"Tuple with elements 10, 20, 30:\", my_tuple)"
   ]
  },
  {
   "cell_type": "markdown",
   "id": "7aabaf1c-1a9c-4845-b6b2-f756697ef7b0",
   "metadata": {},
   "source": [
    "# 38. Write a code to access the first element of the tuple ('apple', 'banana', 'cherry')."
   ]
  },
  {
   "cell_type": "code",
   "execution_count": 41,
   "id": "eb148503-7f12-48be-beef-88820eba9a44",
   "metadata": {},
   "outputs": [
    {
     "name": "stdout",
     "output_type": "stream",
     "text": [
      "First element of the tuple: apple\n"
     ]
    }
   ],
   "source": [
    "my_tuple_2 = ('apple', 'banana', 'cherry')\n",
    "first_element = my_tuple_2[0]\n",
    "print(\"First element of the tuple:\", first_element)"
   ]
  },
  {
   "cell_type": "markdown",
   "id": "6ffc7461-615e-47c0-a492-81a89969b784",
   "metadata": {},
   "source": [
    "# 39. Write a code to count how many times the number 2 appears in the tuple (1, 2, 3, 2, 4, 2)."
   ]
  },
  {
   "cell_type": "code",
   "execution_count": 42,
   "id": "f96759f0-fb66-4229-ae1b-21948674520d",
   "metadata": {
    "collapsed": true,
    "jupyter": {
     "outputs_hidden": true
    },
    "scrolled": true
   },
   "outputs": [
    {
     "name": "stdout",
     "output_type": "stream",
     "text": [
      "Count of 2 in the tuple: 3\n"
     ]
    }
   ],
   "source": [
    "my_tuple_3 = (1, 2, 3, 2, 4, 2)\n",
    "count_of_two = my_tuple_3.count(2)\n",
    "print(\"Count of 2 in the tuple:\", count_of_two)"
   ]
  },
  {
   "cell_type": "markdown",
   "id": "794c7969-642b-4a33-a60b-512bd019a744",
   "metadata": {},
   "source": [
    "# 40. Write a code to find the index of the element \"cat\" in the tuple ('dog', 'cat', 'rabbit')."
   ]
  },
  {
   "cell_type": "code",
   "execution_count": 43,
   "id": "cd471df4-82cc-4e12-a566-4c130caa26e7",
   "metadata": {},
   "outputs": [
    {
     "name": "stdout",
     "output_type": "stream",
     "text": [
      "Index of 'cat': 1\n"
     ]
    }
   ],
   "source": [
    "my_tuple_4 = ('dog', 'cat', 'rabbit')\n",
    "index_of_cat = my_tuple_4.index('cat')\n",
    "print(\"Index of 'cat':\", index_of_cat)"
   ]
  },
  {
   "cell_type": "markdown",
   "id": "6bbdb8ec-dd57-4901-9a73-e59941348e4f",
   "metadata": {},
   "source": [
    "# 41. Write a code to check if the element \"banana\" is in the tuple ('apple', 'orange', 'banana')."
   ]
  },
  {
   "cell_type": "code",
   "execution_count": 44,
   "id": "6d9d3f2e-3c08-4640-bad3-43875a70215c",
   "metadata": {},
   "outputs": [
    {
     "name": "stdout",
     "output_type": "stream",
     "text": [
      "Is 'banana' in the tuple? True\n"
     ]
    }
   ],
   "source": [
    "my_tuple_5 = ('apple', 'orange', 'banana')\n",
    "is_banana_in_tuple = 'banana' in my_tuple_5\n",
    "print(\"Is 'banana' in the tuple?\", is_banana_in_tuple)"
   ]
  },
  {
   "cell_type": "markdown",
   "id": "8512746c-bf91-4732-96cd-d3d87b8381fc",
   "metadata": {},
   "source": [
    "# 42. Write a code to create a set with the elements 1, 2, 3, 4, 5 and print it."
   ]
  },
  {
   "cell_type": "code",
   "execution_count": 45,
   "id": "c22ae411-71c9-4d50-8b16-4b8dacaf75eb",
   "metadata": {},
   "outputs": [
    {
     "name": "stdout",
     "output_type": "stream",
     "text": [
      "Set with elements 1, 2, 3, 4, 5: {1, 2, 3, 4, 5}\n"
     ]
    }
   ],
   "source": [
    "my_set_3 = {1, 2, 3, 4, 5}\n",
    "print(\"Set with elements 1, 2, 3, 4, 5:\", my_set_3)"
   ]
  },
  {
   "cell_type": "markdown",
   "id": "a8112911-0c9b-4329-aa5f-cc06431b4f4f",
   "metadata": {},
   "source": [
    "# 43. Write a code to add the element 6 to the set {1, 2, 3, 4}"
   ]
  },
  {
   "cell_type": "code",
   "execution_count": 46,
   "id": "d645b824-6b10-4e43-b2b6-cd944ead8ded",
   "metadata": {},
   "outputs": [
    {
     "name": "stdout",
     "output_type": "stream",
     "text": [
      "Set after adding 6: {1, 2, 3, 4, 6}\n"
     ]
    }
   ],
   "source": [
    "my_set_4 = {1, 2, 3, 4}\n",
    "my_set_4.add(6)\n",
    "print(\"Set after adding 6:\", my_set_4)"
   ]
  }
 ],
 "metadata": {
  "kernelspec": {
   "display_name": "Python 3 (ipykernel)",
   "language": "python",
   "name": "python3"
  },
  "language_info": {
   "codemirror_mode": {
    "name": "ipython",
    "version": 3
   },
   "file_extension": ".py",
   "mimetype": "text/x-python",
   "name": "python",
   "nbconvert_exporter": "python",
   "pygments_lexer": "ipython3",
   "version": "3.13.1"
  }
 },
 "nbformat": 4,
 "nbformat_minor": 5
}
