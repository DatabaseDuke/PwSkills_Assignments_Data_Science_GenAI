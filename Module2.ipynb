{
 "cells": [
  {
   "cell_type": "markdown",
   "id": "7d39806d-0ed6-458d-ab95-78218e75b932",
   "metadata": {},
   "source": [
    "# 1. What is the difference between a function and a method in Python?\n",
    "\n",
    "A function is a block of code that performs a specific task and can be called independently.\n",
    "A method, on the other hand, is a function that is associated with an object (usually an instance of a class).\n",
    "In Python, methods are functions that belong to an object and are called using the dot notation.\n",
    "\n",
    "Example of a function and method:"
   ]
  },
  {
   "cell_type": "code",
   "execution_count": 1,
   "id": "8322fdc3-6475-4adf-9856-c2c764ecb39d",
   "metadata": {},
   "outputs": [],
   "source": [
    "def greet(name):\n",
    "    return f\"Hello, {name}!\""
   ]
  },
  {
   "cell_type": "code",
   "execution_count": 2,
   "id": "e12ea94d-33c8-450f-ab3c-dac6f4e7723f",
   "metadata": {},
   "outputs": [],
   "source": [
    "class Person:\n",
    "    def __init__(self, name):\n",
    "        self.name = name\n",
    "\n",
    "    def greet(self):\n",
    "        return f\"Hello, {self.name}!\""
   ]
  },
  {
   "cell_type": "markdown",
   "id": "b42e6a1e-2e89-4c37-ac06-139bd07dd6e5",
   "metadata": {},
   "source": [
    "# 2. Explain the concept of function arguments and parameters in Python.\n",
    "\n",
    "- Parameters are variables that are listed inside the parentheses in the function definition.\n",
    "- Arguments are the values passed to the function when it is called.\n",
    "\n",
    "Example:"
   ]
  },
  {
   "cell_type": "code",
   "execution_count": 5,
   "id": "3fc2cd54-fc8a-43c7-a626-958d32f127e5",
   "metadata": {},
   "outputs": [
    {
     "name": "stdout",
     "output_type": "stream",
     "text": [
      "8\n"
     ]
    }
   ],
   "source": [
    "def add(a, b):  # 'a' and 'b' are parameters\n",
    "    return a + b\n",
    "\n",
    "print(add(3, 5))  # 3 and 5 are arguments"
   ]
  },
  {
   "cell_type": "markdown",
   "id": "fbce3873-4411-4d69-9697-133116cc21c1",
   "metadata": {},
   "source": [
    "# 3. What are the different ways to define and call a function in Python?\n",
    "\n",
    "There are several ways to define and call a function in Python:"
   ]
  },
  {
   "cell_type": "code",
   "execution_count": 11,
   "id": "4fdc965e-e40e-4fcd-8afb-bac58e5670a3",
   "metadata": {},
   "outputs": [],
   "source": [
    "#1. Using the def keyword:\n",
    "def function_name():\n",
    "       pass"
   ]
  },
  {
   "cell_type": "code",
   "execution_count": 8,
   "id": "3f6ddfbc-6718-4f19-afb7-723673544768",
   "metadata": {},
   "outputs": [],
   "source": [
    "#2. Using lambda functions (anonymous functions):\n",
    "function_name = lambda x: x + 2\n",
    "result = function_name(5)"
   ]
  },
  {
   "cell_type": "code",
   "execution_count": 13,
   "id": "cc6caf31-d12f-47a0-8f1a-a608544782ef",
   "metadata": {},
   "outputs": [],
   "source": [
    "#3. Using functions as arguments in higher-order functions (e.g., map, filter):\n",
    "#   result = map(function_name, iterable)"
   ]
  },
  {
   "cell_type": "markdown",
   "id": "6a4a02c4-1dc9-4156-90f0-38f0848f0281",
   "metadata": {},
   "source": [
    "# 4. What is the purpose of the return statement in a Python function?\n",
    "\n",
    "The return statement is used to send a result from a function back to the caller. \n",
    "Without a return statement, a function will return None by default.\n",
    "It is essential when you need to return a value from a function to use it elsewhere in your program.\n",
    "\n",
    "Example:"
   ]
  },
  {
   "cell_type": "code",
   "execution_count": 14,
   "id": "4e2f2b9e-3343-44e8-9f9d-408d81c008f1",
   "metadata": {},
   "outputs": [],
   "source": [
    "def add(a, b):\n",
    "    return a + b"
   ]
  },
  {
   "cell_type": "markdown",
   "id": "626af380-14e1-445e-b592-3b14052e3c40",
   "metadata": {},
   "source": [
    "# 5. What are iterators in Python and how do they differ from iterables?\n",
    "\n",
    "- An iterable is an object that can return an iterator, which can be iterated upon (e.g., lists, tuples, strings).\n",
    "- An iterator is an object representing a stream of data, which keeps track of its current state (position).\n",
    "\n",
    "To create an iterator from an iterable, you use the iter() function, and to get the next element, you use next().\n",
    "\n",
    "Example:"
   ]
  },
  {
   "cell_type": "code",
   "execution_count": 15,
   "id": "37e335a5-8f8e-4aab-a4d7-d71b1e90f73a",
   "metadata": {},
   "outputs": [
    {
     "name": "stdout",
     "output_type": "stream",
     "text": [
      "1\n"
     ]
    }
   ],
   "source": [
    "my_list = [1, 2, 3]\n",
    "iterator = iter(my_list)\n",
    "print(next(iterator))  # Output: 1"
   ]
  },
  {
   "cell_type": "markdown",
   "id": "6ffe7fcc-cb01-4c22-aa79-20fb91263c06",
   "metadata": {},
   "source": [
    "# 6. Explain the concept of generators in Python and how they are defined.\n",
    "\n",
    "A generator is a special type of iterator in Python. Instead of returning all values at once, a generator yields values one at a time using the 'yield' keyword. \n",
    "Generators are defined like regular functions, but with 'yield' instead of 'return'. \n",
    "Example:"
   ]
  },
  {
   "cell_type": "code",
   "execution_count": 16,
   "id": "30502968-6f21-470f-b8e4-43c7a057a32c",
   "metadata": {},
   "outputs": [],
   "source": [
    "def my_generator():\n",
    "    yield 1\n",
    "    yield 2\n",
    "    yield 3"
   ]
  },
  {
   "cell_type": "markdown",
   "id": "d3bd2c52-0f79-4028-bb4d-99fbf81ec2df",
   "metadata": {},
   "source": [
    "# 7. What are the advantages of using generators over regular functions?\n",
    "\n",
    "Advantages of generators:\n",
    "1. Memory efficiency: Generators yield values one at a time and do not store the entire collection in memory.\n",
    "2. Laziness: Generators calculate values only when they are needed, which makes them ideal for large datasets or infinite sequences.\n",
    "3. Better performance: As generators produce values on demand, they are faster and use less memory compared to creating lists or other collections."
   ]
  },
  {
   "cell_type": "markdown",
   "id": "70df29e0-413a-40cc-ad6a-f9094dfb01d8",
   "metadata": {},
   "source": [
    "# 8. What is a lambda function in Python and when is it typically used?\n",
    "\n",
    "A lambda function is a small, anonymous function defined using the 'lambda' keyword. It can take any number of arguments, but only has one expression.\n",
    "Lambda functions are commonly used when you need a small function for a short duration or when passing functions as arguments to higher-order functions like map, filter, or reduce.\n",
    "\n",
    "Example:"
   ]
  },
  {
   "cell_type": "code",
   "execution_count": 19,
   "id": "6070c705-cf69-475b-b9c1-cf54ba1d6f66",
   "metadata": {},
   "outputs": [
    {
     "name": "stdout",
     "output_type": "stream",
     "text": [
      "6\n"
     ]
    }
   ],
   "source": [
    "multiply = lambda x, y: x * y\n",
    "result = multiply(2, 3)\n",
    "print(result)  # Output will be 6"
   ]
  },
  {
   "cell_type": "markdown",
   "id": "879ef245-a6b8-4d13-9ae8-3b81b8672f5b",
   "metadata": {},
   "source": [
    "# 9. Explain the purpose and usage of the map() function in Python.\n",
    "\n",
    "The map() function applies a given function to each item of an iterable (like a list or tuple) and returns an iterator with the results.\n",
    "\n",
    "Syntax:\n",
    "map(function, iterable)\n",
    "\n",
    "Example:"
   ]
  },
  {
   "cell_type": "code",
   "execution_count": 20,
   "id": "678acefd-a1a6-41de-90fd-4da80fc22da3",
   "metadata": {},
   "outputs": [
    {
     "name": "stdout",
     "output_type": "stream",
     "text": [
      "[1, 4, 9]\n"
     ]
    }
   ],
   "source": [
    "numbers = [1, 2, 3]\n",
    "squared = map(lambda x: x ** 2, numbers)\n",
    "print(list(squared))  # Output: [1, 4, 9]"
   ]
  },
  {
   "cell_type": "markdown",
   "id": "904e8b09-c0e1-44bd-9182-2ee7a62ddece",
   "metadata": {},
   "source": [
    "# 10. What is the difference between map(), reduce(), and filter() functions in Python?\n",
    "\n",
    "- map(): Applies a given function to each item of an iterable and returns an iterator with the results.\n",
    "- reduce(): Applies a function cumulatively to the items of an iterable to reduce them to a single value.\n",
    "- filter(): Filters the elements of an iterable based on a function that returns a boolean value.\n",
    "\n",
    "Example:"
   ]
  },
  {
   "cell_type": "code",
   "execution_count": 37,
   "id": "5ed9c8a9-5697-498e-8e47-7fab09a57e02",
   "metadata": {},
   "outputs": [
    {
     "name": "stdout",
     "output_type": "stream",
     "text": [
      "[2, 3, 4]\n",
      "6\n",
      "[3]\n"
     ]
    }
   ],
   "source": [
    "from functools import reduce;\n",
    "result = list(map(lambda x: x + 1, [1, 2, 3]))  # Output: [2, 3, 4]\n",
    "print(result)\n",
    "result = int(reduce(lambda x, y: x + y, [1, 2, 3]))  # Output: 6\n",
    "print(result)\n",
    "result = list(filter(lambda x: x > 2, [1, 2, 3]))  # Output: [3]\n",
    "print(result)"
   ]
  },
  {
   "attachments": {
    "f2fc8d29-f148-4ab5-9316-f770b6c85654.jpg": {
     "image/jpeg": "[encoded data removed]"
    }
   },
   "cell_type": "markdown",
   "id": "824edf93-cc33-41ff-a0a3-48d683d2b052",
   "metadata": {},
   "source": [
    "# 11. Using pen & Paper write the internal mechanism for sum operation using  reduce function on this given  list:[47,11,42,13]\n",
    "\n",
    "![image.jpg](attachment:f2fc8d29-f148-4ab5-9316-f770b6c85654.jpg)"
   ]
  },
  {
   "cell_type": "markdown",
   "id": "ec7673e0-e8b0-467a-8b4a-d4138cf48f78",
   "metadata": {},
   "source": [
    "# 12. Write a Python function that takes a list of numbers as input and returns the sum of all even numbers in the list.\n",
    "\n",
    "This function takes a list of numbers and sums up only the even numbers from the list. \n",
    "It uses a list comprehension to filter even numbers and then calculates their sum."
   ]
  },
  {
   "cell_type": "code",
   "execution_count": 40,
   "id": "8440f331-0750-48ea-9a1d-1f03f69859d0",
   "metadata": {},
   "outputs": [
    {
     "data": {
      "text/plain": [
       "20"
      ]
     },
     "execution_count": 40,
     "metadata": {},
     "output_type": "execute_result"
    }
   ],
   "source": [
    "def sum_of_even_numbers(numbers):\n",
    "    return sum([num for num in numbers if num % 2 == 0])\n",
    "\n",
    "numbers = [1, 2, 3, 4, 5, 6, 7, 8]\n",
    "sum_of_even_numbers(numbers)  # Output: 20"
   ]
  },
  {
   "cell_type": "markdown",
   "id": "af758760-36b7-4873-8cf6-79b7490aa786",
   "metadata": {},
   "source": [
    "# 13. Create a Python function that accepts a string and returns the reverse of that string.\n",
    "\n",
    "This function takes a string as input and returns its reverse by using Python's slicing feature."
   ]
  },
  {
   "cell_type": "code",
   "execution_count": 41,
   "id": "aac9d0bd-cd24-4da8-88de-c1600aeb9d35",
   "metadata": {},
   "outputs": [
    {
     "data": {
      "text/plain": [
       "'olleh'"
      ]
     },
     "execution_count": 41,
     "metadata": {},
     "output_type": "execute_result"
    }
   ],
   "source": [
    "def reverse_string(input_string):\n",
    "    return input_string[::-1]\n",
    "\n",
    "reverse_string(\"hello\")  # Output: \"olleh\""
   ]
  },
  {
   "cell_type": "markdown",
   "id": "6a5d6c29-aa75-497b-bc7d-ab5226479aa0",
   "metadata": {},
   "source": [
    "# 14. Implement a Python function that takes a list of integers and returns a new list containing the squares of each number.\n",
    "\n",
    "This function accepts a list of integers and returns a new list where each number is squared.\n",
    "It uses a list comprehension to generate the new list."
   ]
  },
  {
   "cell_type": "code",
   "execution_count": 42,
   "id": "a434744d-3045-4b18-ba5f-1fb13ad37632",
   "metadata": {},
   "outputs": [
    {
     "data": {
      "text/plain": [
       "[1, 4, 9, 16]"
      ]
     },
     "execution_count": 42,
     "metadata": {},
     "output_type": "execute_result"
    }
   ],
   "source": [
    "def square_numbers(numbers):\n",
    "    return [num ** 2 for num in numbers]\n",
    "\n",
    "square_numbers([1, 2, 3, 4])  # Output: [1, 4, 9, 16]"
   ]
  },
  {
   "cell_type": "markdown",
   "id": "5d101622-a282-48c4-a611-3c9aa1aeb4e5",
   "metadata": {},
   "source": [
    "# 15. Write a Python function that checks if a given number is prime or not from 1 to 200.\n",
    "\n",
    "This function checks if a number is prime. A prime number is greater than 1 and is divisible only by 1 and itself.\n",
    "It uses a simple algorithm to check for divisibility."
   ]
  },
  {
   "cell_type": "code",
   "execution_count": 44,
   "id": "92c3bd8a-6b43-4b08-9d46-6d06d99abf9c",
   "metadata": {},
   "outputs": [
    {
     "name": "stdout",
     "output_type": "stream",
     "text": [
      "True\n",
      "False\n"
     ]
    }
   ],
   "source": [
    "def is_prime(number):\n",
    "    if number <= 1:\n",
    "        return False\n",
    "    for i in range(2, int(number ** 0.5) + 1):\n",
    "        if number % i == 0:\n",
    "            return False\n",
    "    return True\n",
    "\n",
    "# Example Usage\n",
    "print(is_prime(29))  # Output: True\n",
    "print(is_prime(200))  # Output: False"
   ]
  },
  {
   "cell_type": "markdown",
   "id": "c0376304-2125-4f46-8bc2-05e417a5ae91",
   "metadata": {},
   "source": [
    "# 16. Create an iterator class in Python that generates the Fibonacci sequence up to a specified number of terms.\n",
    "\n",
    "This class creates an iterator for the Fibonacci sequence. It generates the sequence up to the specified number of terms.\n"
   ]
  },
  {
   "cell_type": "code",
   "execution_count": 45,
   "id": "10ee2436-969e-4fc0-a4db-a58392eda81a",
   "metadata": {},
   "outputs": [
    {
     "name": "stdout",
     "output_type": "stream",
     "text": [
      "0\n",
      "1\n",
      "1\n",
      "2\n",
      "3\n",
      "5\n",
      "8\n",
      "13\n",
      "21\n",
      "34\n"
     ]
    }
   ],
   "source": [
    "class FibonacciIterator:\n",
    "    def __init__(self, num_terms):\n",
    "        self.num_terms = num_terms\n",
    "        self.a, self.b = 0, 1\n",
    "        self.counter = 0\n",
    "\n",
    "    def __iter__(self):\n",
    "        return self\n",
    "\n",
    "    def __next__(self):\n",
    "        if self.counter < self.num_terms:\n",
    "            result = self.a\n",
    "            self.a, self.b = self.b, self.a + self.b\n",
    "            self.counter += 1\n",
    "            return result\n",
    "        else:\n",
    "            raise StopIteration\n",
    "\n",
    "# Example Usage\n",
    "fibonacci = FibonacciIterator(10)\n",
    "for number in fibonacci:\n",
    "    print(number)\n",
    "# Output: 0, 1, 1, 2, 3, 5, 8, 13, 21, 34"
   ]
  },
  {
   "cell_type": "markdown",
   "id": "9970e9be-d56e-4e54-9088-0017802b73f6",
   "metadata": {},
   "source": [
    "# 17. Write a generator function in Python that yields the powers of 2 up to a given exponent.\n",
    "\n",
    "This generator function takes an exponent as input and yields powers of 2 starting from 2^0 up to 2^n.`\n"
   ]
  },
  {
   "cell_type": "code",
   "execution_count": 48,
   "id": "f8735576-4312-4f8a-91e6-be81217aec2d",
   "metadata": {},
   "outputs": [
    {
     "data": {
      "text/plain": [
       "[1, 2, 4, 8, 16, 32]"
      ]
     },
     "execution_count": 48,
     "metadata": {},
     "output_type": "execute_result"
    }
   ],
   "source": [
    "def powers_of_two(exponent):\n",
    "    for i in range(exponent + 1):\n",
    "        yield 2 ** i\n",
    "\n",
    "list(powers_of_two(5))"
   ]
  },
  {
   "cell_type": "markdown",
   "id": "7889374a-7009-4d74-8877-2dc8cfc10f1c",
   "metadata": {},
   "source": [
    "# 18. Implement a generator function that reads a file line by line and yields each line as a string.\n",
    "\n",
    "This generator function takes a file path as input and yields each line from the file one by one.\n",
    "It reads the file line by line, which makes it memory efficient for large files.\n"
   ]
  },
  {
   "cell_type": "code",
   "execution_count": 51,
   "id": "13dc3a2d-bf6a-4b70-8b80-0048658bd269",
   "metadata": {},
   "outputs": [
    {
     "name": "stdout",
     "output_type": "stream",
     "text": [
      "Python is one of the most popular programming languages today, known for its simplicity, extensive features and library support. Its clean and straightforward syntax makes it beginner-friendly, while its powerful libraries and frameworks makes it perfect for developers.\n",
      "\n",
      "A high-level, interpreted language with easy-to-read syntax.\n",
      "Used in various fields like web development, data science, artificial intelligence and automation.\n"
     ]
    }
   ],
   "source": [
    "def read_file_line_by_line(file_path):\n",
    "    with open(file_path, 'r') as file:\n",
    "        for line in file:\n",
    "            yield line.strip()\n",
    "\n",
    "for line in read_file_line_by_line('sample.txt'):\n",
    "    print(line)"
   ]
  },
  {
   "cell_type": "markdown",
   "id": "12b6a560-1008-4775-a499-66eff588a8d5",
   "metadata": {},
   "source": [
    "# 19. Use a lambda function in Python to sort a list of tuples based on the second element of each tuple.\n",
    "\n",
    "This lambda function sorts a list of tuples by the second element of each tuple.\n",
    "We pass the lambda function to the sorted() function to define the sorting criteria."
   ]
  },
  {
   "cell_type": "code",
   "execution_count": 53,
   "id": "475ccc46-8b76-4b72-9805-5829dce2ea8d",
   "metadata": {},
   "outputs": [
    {
     "name": "stdout",
     "output_type": "stream",
     "text": [
      "[(1, 'apple'), (3, 'banana'), (2, 'cherry')]\n"
     ]
    }
   ],
   "source": [
    "tuples_list = [(1, 'apple'), (3, 'banana'), (2, 'cherry')]\n",
    "\n",
    "sorted_list = sorted(tuples_list, key=lambda x: x[1])\n",
    "print(sorted_list)\n",
    "# Output: [(1, 'apple'), (2, 'cherry'), (3, 'banana')] "
   ]
  },
  {
   "cell_type": "markdown",
   "id": "500dd4e9-86b8-45e1-8f36-254e9952c791",
   "metadata": {},
   "source": [
    "# 20. Write a Python program that uses map() to convert a list of temperatures from Celsius to Fahrenheit.\n",
    "\n",
    "This program uses the map() function to convert a list of temperatures from Celsius to Fahrenheit.\n",
    "The map() function applies the given lambda function to each item in the list."
   ]
  },
  {
   "cell_type": "code",
   "execution_count": 55,
   "id": "885371f6-ec45-4f04-a306-416bbee2be73",
   "metadata": {},
   "outputs": [
    {
     "name": "stdout",
     "output_type": "stream",
     "text": [
      "[32.0, 77.0, 122.0, 212.0]\n"
     ]
    }
   ],
   "source": [
    "def celsius_to_fahrenheit(celsius_temperatures):\n",
    "    return list(map(lambda c: (c * 9/5) + 32, celsius_temperatures))\n",
    "\n",
    "celsius_temps = [0, 25, 50, 100]\n",
    "fahrenheit_temps = celsius_to_fahrenheit(celsius_temps)\n",
    "print(fahrenheit_temps)"
   ]
  },
  {
   "cell_type": "markdown",
   "id": "6b188efc-bc96-4a06-b7f9-6aa29797000a",
   "metadata": {},
   "source": [
    "# 21. Create a Python program that uses filter() to remove all the vowels from a given string.\n",
    "\n",
    "This program uses the filter() function to remove all vowels (both uppercase and lowercase) from a given string.\n",
    "It filters out characters that are vowels and keeps only non-vowel characters."
   ]
  },
  {
   "cell_type": "code",
   "execution_count": 56,
   "id": "29bb9409-f580-46c6-9e65-890aaaef8cf5",
   "metadata": {},
   "outputs": [
    {
     "data": {
      "text/plain": [
       "'Hll Wrld!'"
      ]
     },
     "execution_count": 56,
     "metadata": {},
     "output_type": "execute_result"
    }
   ],
   "source": [
    "def remove_vowels(input_string):\n",
    "    vowels = 'aeiouAEIOU'\n",
    "    return ''.join(filter(lambda x: x not in vowels, input_string))\n",
    "\n",
    "# Example Usage\n",
    "remove_vowels(\"Hello World!\")  # Output: \"Hll Wrld!\""
   ]
  },
  {
   "cell_type": "markdown",
   "id": "3000b30e-f8a3-4e52-80b3-967c216de5ee",
   "metadata": {},
   "source": [
    "# 22. Imagine an accounting routine used in a book shop. It works on a list with sublists, which look like this:\n",
    " Order Number    Book Title and Author                     Quantity    Price per Item \n",
    " 34587           Learning Python, Mark Lutz                4           40.95 \n",
    " 98762           Programming Python, Mark Lutz             5           56.8 \n",
    " 77226           Head First Python, Paul Barry             3           32.95 \n",
    " 88112           Introduction to Python3, Bernd Klein      3           24.99 \n",
    "\n",
    "This program uses a lambda function along with the map() function to calculate the total price for each order.\n",
    "It also adds 10€ to the total if the order value is smaller than 100€."
   ]
  },
  {
   "cell_type": "code",
   "execution_count": 57,
   "id": "20977ae0-5f71-42e9-bcf1-b6ead8a11fd8",
   "metadata": {},
   "outputs": [
    {
     "data": {
      "text/plain": [
       "[(34587, 163.8), (98762, 284.0), (77226, 108.85000000000001), (88112, 84.97)]"
      ]
     },
     "execution_count": 57,
     "metadata": {},
     "output_type": "execute_result"
    }
   ],
   "source": [
    "orders = [\n",
    "    [34587, \"Learning Python, Mark Lutz\", 4, 40.95],\n",
    "    [98762, \"Programming Python, Mark Lutz\", 5, 56.8],\n",
    "    [77226, \"Head First Python, Paul Barry\", 3, 32.95],\n",
    "    [88112, \"Introduction to Python3, Bernd Klein\", 3, 24.99]\n",
    "]\n",
    "\n",
    "def calculate_order_totals(orders):\n",
    "    return list(map(lambda order: (order[0], (order[2] * order[3]) + 10) if (order[2] * order[3]) < 100 else (order[0], order[2] * order[3]), orders))\n",
    "\n",
    "calculate_order_totals(orders)"
   ]
  }
 ],
 "metadata": {
  "kernelspec": {
   "display_name": "Python 3 (ipykernel)",
   "language": "python",
   "name": "python3"
  },
  "language_info": {
   "codemirror_mode": {
    "name": "ipython",
    "version": 3
   },
   "file_extension": ".py",
   "mimetype": "text/x-python",
   "name": "python",
   "nbconvert_exporter": "python",
   "pygments_lexer": "ipython3",
   "version": "3.13.1"
  }
 },
 "nbformat": 4,
 "nbformat_minor": 5
}
