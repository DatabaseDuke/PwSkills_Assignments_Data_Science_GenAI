{
 "cells": [
  {
   "cell_type": "markdown",
   "id": "33cc225f-5ffe-4c92-8704-97f8e617cf4e",
   "metadata": {},
   "source": [
    "# 1. What is Object-Oriented Programming (OOP)\n",
    "\n",
    "Object-Oriented Programming (OOP) is a programming paradigm that uses objects and classes to organize and structure code.\n",
    "It allows for the creation of classes that define objects and their behaviors, promoting modularity, reusability, and\n",
    "maintainability. The four main principles of OOP are Encapsulation, Abstraction, Inheritance, and Polymorphism."
   ]
  },
  {
   "cell_type": "markdown",
   "id": "076ad2e0-d547-412b-aeff-5b346b5dc02d",
   "metadata": {},
   "source": [
    "# 2. What is a class in OOP\n",
    "\n",
    "A class is a blueprint or template for creating objects (instances). It defines the attributes (variables) and methods (functions)\n",
    "that the objects created from it will have. A class represents a real-world concept or object.\n",
    "Example:"
   ]
  },
  {
   "cell_type": "code",
   "execution_count": 1,
   "id": "d8c15f48-b2d1-4b88-80b2-c83b7578303d",
   "metadata": {},
   "outputs": [],
   "source": [
    "class Car:\n",
    "    def __init__(self, model, color):\n",
    "        self.model = model\n",
    "        self.color = color"
   ]
  },
  {
   "cell_type": "markdown",
   "id": "a4d478f8-2ec2-4f12-8f92-fdaf50aa40f3",
   "metadata": {},
   "source": [
    "# 3. What is an object in OOP\n",
    "\n",
    "An object is an instance of a class. It is created based on the structure defined in the class and contains actual data.\n",
    "For example, a specific car object can be created from the Car class."
   ]
  },
  {
   "cell_type": "markdown",
   "id": "94e49824-4f9c-44e1-b1f8-9fceb2cd4058",
   "metadata": {},
   "source": [
    "# 4. What is the difference between abstraction and encapsulation\n",
    "\n",
    "Abstraction is the concept of hiding the complexity of the system and showing only the essential features to the user.\n",
    "Encapsulation refers to bundling the data (attributes) and methods that operate on the data into a single unit, i.e., the class,\n",
    "and restricting direct access to some of the object's components."
   ]
  },
  {
   "cell_type": "markdown",
   "id": "25cc52ae-1c6c-46de-9d5f-e29ea9553e55",
   "metadata": {},
   "source": [
    "# 5. What are dunder methods in Python\n",
    "\n",
    "Dunder methods, or \"magic methods\", are special methods in Python that have double underscores before and after their names.\n",
    "These methods allow objects to interact with Python syntax in a more customized way, such as `__init__`, `__str__`, `__repr__`, etc.\n",
    "Example:"
   ]
  },
  {
   "cell_type": "code",
   "execution_count": 2,
   "id": "2a3c1bc2-00e2-4982-9c99-30675f0b45c2",
   "metadata": {},
   "outputs": [
    {
     "name": "stdout",
     "output_type": "stream",
     "text": [
      "Person: John\n"
     ]
    }
   ],
   "source": [
    "class Person:\n",
    "    def __init__(self, name):\n",
    "        self.name = name\n",
    "    \n",
    "    def __str__(self):\n",
    "        return f'Person: {self.name}'\n",
    "\n",
    "p = Person(\"John\")\n",
    "print(p)  # Output: Person: John"
   ]
  },
  {
   "cell_type": "markdown",
   "id": "b03dd32f-ad90-4f5f-b109-42d8aef1b00e",
   "metadata": {},
   "source": [
    "# 6. Explain the concept of inheritance in OOP\n",
    "\n",
    "Inheritance allows a new class (child class) to inherit attributes and methods from an existing class (parent class).\n",
    "It allows for code reuse and establishing a hierarchical relationship between classes.\n",
    "Example:"
   ]
  },
  {
   "cell_type": "code",
   "execution_count": 3,
   "id": "51c366df-f9c3-4d97-b668-229d28bb7db9",
   "metadata": {},
   "outputs": [
    {
     "name": "stdout",
     "output_type": "stream",
     "text": [
      "Woof\n"
     ]
    }
   ],
   "source": [
    "class Animal:\n",
    "    def speak(self):\n",
    "        return \"Animal sound\"\n",
    "\n",
    "class Dog(Animal):\n",
    "    def speak(self):\n",
    "        return \"Woof\"\n",
    "\n",
    "dog = Dog()\n",
    "print(dog.speak())  # Output: Woof"
   ]
  },
  {
   "cell_type": "markdown",
   "id": "6c70b820-637d-4e1e-97f3-97e0b25947c1",
   "metadata": {},
   "source": [
    "# 7. What is polymorphism in OOP\n",
    "\n",
    "Polymorphism is the ability of different classes to implement the same method in different ways. In OOP, polymorphism\n",
    "allows a single interface to represent different underlying forms (types).\n",
    "Example:"
   ]
  },
  {
   "cell_type": "code",
   "execution_count": 4,
   "id": "182a0e3e-f964-43aa-8d7f-39311539b551",
   "metadata": {},
   "outputs": [
    {
     "name": "stdout",
     "output_type": "stream",
     "text": [
      "Meow\n"
     ]
    }
   ],
   "source": [
    "class Cat(Animal):\n",
    "    def speak(self):\n",
    "        return \"Meow\"\n",
    "\n",
    "def animal_sound(animal):\n",
    "    print(animal.speak())\n",
    "\n",
    "cat = Cat()\n",
    "animal_sound(cat)  # Output: Meow"
   ]
  },
  {
   "cell_type": "markdown",
   "id": "89307131-8c3c-4456-9ae3-5cc12540dc58",
   "metadata": {},
   "source": [
    "# 8. How is encapsulation achieved in Python\n",
    "\n",
    "Encapsulation is achieved in Python by using classes and restricting direct access to some of the object’s attributes\n",
    "and methods through the use of private variables (prefix `_` or `__`).\n",
    "Example:"
   ]
  },
  {
   "cell_type": "code",
   "execution_count": 5,
   "id": "91ef41eb-e824-4a1b-ad5d-70b0e33c4fb4",
   "metadata": {},
   "outputs": [
    {
     "name": "stdout",
     "output_type": "stream",
     "text": [
      "5\n"
     ]
    }
   ],
   "source": [
    "class EncapsulatedClass:\n",
    "    def __init__(self, value):\n",
    "        self._value = value\n",
    "    \n",
    "    def get_value(self):\n",
    "        return self._value\n",
    "    \n",
    "    def set_value(self, value):\n",
    "        self._value = value\n",
    "\n",
    "obj = EncapsulatedClass(5)\n",
    "print(obj.get_value())  # Output: 5"
   ]
  },
  {
   "cell_type": "markdown",
   "id": "f75f930e-e29b-47a6-a74e-237c94275562",
   "metadata": {},
   "source": [
    "# 9. What is a constructor in Python\n",
    "\n",
    "A constructor in Python is a special method `__init__` that is automatically called when an object is created. It is used to initialize the object's attributes.\n",
    "Example:"
   ]
  },
  {
   "cell_type": "code",
   "execution_count": 6,
   "id": "82aed553-2730-4bb8-b6eb-b2213e4ed3de",
   "metadata": {},
   "outputs": [],
   "source": [
    "class Person:\n",
    "    def __init__(self, name):\n",
    "        self.name = name"
   ]
  },
  {
   "cell_type": "markdown",
   "id": "6f7af8ed-0c47-45c5-954a-e4018cb3728d",
   "metadata": {},
   "source": [
    "# 10. What are class and static methods in Python\n",
    "\n",
    "Class methods are methods bound to the class, not instances. They take `cls` as their first parameter.\n",
    "Static methods don't take either `cls` or `self` as their first argument and are not bound to the class or instance.\n",
    "Example:"
   ]
  },
  {
   "cell_type": "code",
   "execution_count": 12,
   "id": "71c08267-031f-4dd1-80dc-92f3981a5291",
   "metadata": {},
   "outputs": [
    {
     "name": "stdout",
     "output_type": "stream",
     "text": [
      "Class method called: 10\n",
      "Static method called\n"
     ]
    }
   ],
   "source": [
    "class MyClass:\n",
    "    class_var = 10\n",
    "    \n",
    "    @classmethod\n",
    "    def class_method(cls):\n",
    "        print(f\"Class method called: {cls.class_var}\")\n",
    "    \n",
    "    @staticmethod\n",
    "    def static_method():\n",
    "        print(\"Static method called\")\n",
    "\n",
    "my = MyClass()\n",
    "my.class_method()\n",
    "MyClass().static_method()"
   ]
  },
  {
   "cell_type": "markdown",
   "id": "3ba8a8cd-f71d-42c7-8d3d-e2eb89f1c380",
   "metadata": {},
   "source": [
    "# 11. What is method overloading in Python\n",
    "\n",
    "Python does not support traditional method overloading like some other languages (e.g., Java). However, method overloading can be simulated\n",
    "by using default arguments or variable-length arguments (`*args` and `**kwargs`).\n",
    "Example:"
   ]
  },
  {
   "cell_type": "code",
   "execution_count": 13,
   "id": "692ebfb5-3dbf-42ad-97ed-917726b99182",
   "metadata": {},
   "outputs": [
    {
     "name": "stdout",
     "output_type": "stream",
     "text": [
      "5\n",
      "15\n"
     ]
    }
   ],
   "source": [
    "class MyClass:\n",
    "    def add(self, a, b=0):\n",
    "        return a + b\n",
    "\n",
    "obj = MyClass()\n",
    "print(obj.add(5))    # Output: 5\n",
    "print(obj.add(5, 10))  # Output: 15"
   ]
  },
  {
   "cell_type": "markdown",
   "id": "bda19ee5-d4aa-4316-8884-aee6e5b51a3c",
   "metadata": {},
   "source": [
    "# 12. What is method overriding in OOP\n",
    "\n",
    "Method overriding occurs when a child class provides a specific implementation of a method that is already defined in its parent class.\n",
    "Example:"
   ]
  },
  {
   "cell_type": "code",
   "execution_count": 23,
   "id": "6bfa2b93-da64-47a7-b264-5cbdfa31dd0a",
   "metadata": {},
   "outputs": [
    {
     "name": "stdout",
     "output_type": "stream",
     "text": [
      "Some sound\n",
      "Bark\n"
     ]
    }
   ],
   "source": [
    "class Animal:\n",
    "    def sound(self):\n",
    "        return \"Some sound\"\n",
    "\n",
    "class Dog(Animal):\n",
    "    def sound(self):\n",
    "        return \"Bark\"\n",
    "\n",
    "a = Animal()\n",
    "print(a.sound())\n",
    "d = Dog()\n",
    "print(d.sound())"
   ]
  },
  {
   "cell_type": "markdown",
   "id": "d62e3e65-89fd-428a-8383-c1de0be0a101",
   "metadata": {},
   "source": [
    "# 13. What is a property decorator in Python\n",
    "\n",
    "The `@property` decorator is used to define a method as a property, allowing you to access it like an attribute but still call a method.\n",
    "Example:"
   ]
  },
  {
   "cell_type": "code",
   "execution_count": 24,
   "id": "79c65583-b599-4b44-ba9a-111200374820",
   "metadata": {},
   "outputs": [
    {
     "name": "stdout",
     "output_type": "stream",
     "text": [
      "5\n"
     ]
    }
   ],
   "source": [
    "class Circle:\n",
    "    def __init__(self, radius):\n",
    "        self._radius = radius\n",
    "    \n",
    "    @property\n",
    "    def radius(self):\n",
    "        return self._radius\n",
    "\n",
    "circle = Circle(5)\n",
    "print(circle.radius)  # Output: 5"
   ]
  },
  {
   "cell_type": "markdown",
   "id": "59555220-9381-407c-8e4b-a621747893ac",
   "metadata": {},
   "source": [
    "# 14. Why is polymorphism important in OOP\n",
    "\n",
    "Polymorphism allows for flexibility and scalability in code. It enables a unified interface for different types, making it easier to extend and maintain the system.\n",
    "\n",
    "# 15. What is an abstract class in Python\n",
    "\n",
    "An abstract class is a class that cannot be instantiated directly and is meant to be inherited by other classes. It can contain abstract methods, which must be implemented by subclasses."
   ]
  },
  {
   "cell_type": "code",
   "execution_count": 27,
   "id": "d08d4b14-f8e7-413c-b49f-db0bc4cfeecb",
   "metadata": {},
   "outputs": [
    {
     "name": "stdout",
     "output_type": "stream",
     "text": [
      "78.5\n"
     ]
    }
   ],
   "source": [
    "from abc import ABC, abstractmethod\n",
    "\n",
    "class Shape(ABC):\n",
    "    @abstractmethod\n",
    "    def area(self):\n",
    "        pass\n",
    "\n",
    "class Circle(Shape):\n",
    "    def area(self):\n",
    "        return 3.14 * 5 * 5\n",
    "\n",
    "a = Circle()\n",
    "print(a.area())"
   ]
  },
  {
   "cell_type": "markdown",
   "id": "f0c6ef1d-c4a0-4116-9242-a3f47a3de892",
   "metadata": {},
   "source": [
    "# 16. What are the advantages of OOP\n",
    "\n",
    "The advantages of OOP include modularity, reusability, easier maintenance, and improved problem-solving by breaking problems into smaller, manageable pieces.\n",
    "\n",
    "# 17. What is multiple inheritance in Python\n",
    "\n",
    "Multiple inheritance is the ability of a class to inherit from more than one base class."
   ]
  },
  {
   "cell_type": "code",
   "execution_count": 28,
   "id": "569a20c2-faec-432f-ad34-8f1667db5fea",
   "metadata": {},
   "outputs": [],
   "source": [
    "class A:\n",
    "    pass\n",
    "\n",
    "class B:\n",
    "    pass\n",
    "\n",
    "class C(A, B):\n",
    "    pass"
   ]
  },
  {
   "cell_type": "markdown",
   "id": "dd97ebd9-45cb-401d-aff8-36bbb269b93f",
   "metadata": {},
   "source": [
    "# 18. What is the difference between a class variable and an instance variable\n",
    "\n",
    "Class variables are shared by all instances of the class, while instance variables are specific to each object.\n",
    "Example:"
   ]
  },
  {
   "cell_type": "code",
   "execution_count": 29,
   "id": "2bea5772-260a-47d6-932c-bd7f17015502",
   "metadata": {},
   "outputs": [],
   "source": [
    "class Example:\n",
    "    class_var = 10  # Class variable\n",
    "    \n",
    "    def __init__(self, instance_var):\n",
    "        self.instance_var = instance_var  # Instance variable"
   ]
  },
  {
   "cell_type": "markdown",
   "id": "96d7d2cf-90f2-4a14-b00e-b2a6e3ef42d9",
   "metadata": {},
   "source": [
    "# 19. Explain the purpose of `__str__` and `__repr__` methods in Python\n",
    "\n",
    "`__str__` is used to define a string representation of an object, typically for human-readable output.\n",
    "`__repr__` is used to define a more formal string representation, meant for debugging and logging.\n",
    "Example:"
   ]
  },
  {
   "cell_type": "code",
   "execution_count": 32,
   "id": "ddaad0dc-67dd-4972-a6e2-559808a13a69",
   "metadata": {},
   "outputs": [
    {
     "name": "stdout",
     "output_type": "stream",
     "text": [
      "Person: John\n"
     ]
    }
   ],
   "source": [
    "class Person:\n",
    "    def __init__(self, name):\n",
    "        self.name = name\n",
    "\n",
    "    def __str__(self):\n",
    "        return f\"Person: {self.name}\"\n",
    "    \n",
    "    def __repr__(self):\n",
    "        return f\"Person('{self.name}')\"\n",
    "\n",
    "p = Person('John')\n",
    "print(p)"
   ]
  },
  {
   "cell_type": "markdown",
   "id": "c387c1bb-13ed-476b-942c-4efc0eb6577d",
   "metadata": {},
   "source": [
    "# 20. What is the significance of the `super()` function in Python\n",
    "\n",
    "The `super()` function is used to call methods from a parent class, allowing the child class to extend or override behavior.\n",
    "Example:"
   ]
  },
  {
   "cell_type": "code",
   "execution_count": 36,
   "id": "7129b7d6-ead4-4779-9f3d-93db2026e281",
   "metadata": {},
   "outputs": [
    {
     "name": "stdout",
     "output_type": "stream",
     "text": [
      "Hello from A\n",
      "Hello from A\n",
      "Hello from B\n"
     ]
    }
   ],
   "source": [
    "class A:\n",
    "    def greet(self):\n",
    "        print(\"Hello from A\")\n",
    "\n",
    "class B(A):\n",
    "    def greet(self):\n",
    "        super().greet()  # Call A's greet\n",
    "        print(\"Hello from B\")\n",
    "\n",
    "a = A()\n",
    "a.greet()\n",
    "b = B()\n",
    "b.greet()"
   ]
  },
  {
   "cell_type": "markdown",
   "id": "a2014fd5-161b-4689-862b-f0049826b78b",
   "metadata": {},
   "source": [
    "# 21. What is the significance of the `__del__` method in Python\n",
    "\n",
    "The `__del__` method is a special method in Python that is called when an object is about to be destroyed. It can be used to release resources.\n",
    "\n",
    "# 22. What is the difference between `@staticmethod` and `@classmethod` in Python\n",
    "\n",
    "`@staticmethod` is a method that doesn't depend on class or instance, while `@classmethod` is bound to the class and takes `cls` as its first parameter.\n",
    "\n",
    "# 23. How does polymorphism work in Python with inheritance\n",
    "\n",
    "Polymorphism works in Python through inheritance by allowing different child classes to define methods with the same name but different behavior.\n",
    "\n",
    "# 24. What is method chaining in Python OOP\n",
    "\n",
    "Method chaining is a technique where methods are called on an object in a sequence, each call returning the object itself.\n",
    "Example:"
   ]
  },
  {
   "cell_type": "code",
   "execution_count": 39,
   "id": "f7d4cdbf-a78a-4628-8bdc-154ce0a39dac",
   "metadata": {},
   "outputs": [
    {
     "name": "stdout",
     "output_type": "stream",
     "text": [
      "Method1\n",
      "<__main__.MyClass object at 0x0000021037BF4D70>\n",
      "Method2\n",
      "<__main__.MyClass object at 0x0000021037BF4D70>\n"
     ]
    }
   ],
   "source": [
    "class MyClass:\n",
    "    def method1(self):\n",
    "        print(\"Method1\")\n",
    "        return self\n",
    "    \n",
    "    def method2(self):\n",
    "        print(\"Method2\")\n",
    "        return self\n",
    "\n",
    "my = MyClass()\n",
    "print(my.method1())\n",
    "print(my.method2())"
   ]
  },
  {
   "cell_type": "markdown",
   "id": "e09ee442-46cb-4d32-9db0-6b73c16ad5d2",
   "metadata": {},
   "source": [
    "# 25. What is the purpose of the `__call__` method in Python?\n",
    "\n",
    "The `__call__` method allows an instance of a class to be called like a function. It makes the object callable.\n",
    "Example:"
   ]
  },
  {
   "cell_type": "code",
   "execution_count": 40,
   "id": "21f8c0ee-9eb3-4449-9209-7662d10df886",
   "metadata": {},
   "outputs": [
    {
     "name": "stdout",
     "output_type": "stream",
     "text": [
      "Object called as a function!\n"
     ]
    }
   ],
   "source": [
    "class MyClass:\n",
    "    def __call__(self):\n",
    "        print(\"Object called as a function!\")\n",
    "\n",
    "obj = MyClass()\n",
    "obj()  # Output: Object called as a function!"
   ]
  },
  {
   "cell_type": "markdown",
   "id": "ecaca0f8-7fb9-413a-948c-182955906e50",
   "metadata": {},
   "source": [
    "# 26. Create a parent class Animal with a method speak() that prints a generic message. Create a child class Dog that overrides the speak() method to print \"Bark!\"."
   ]
  },
  {
   "cell_type": "code",
   "execution_count": 41,
   "id": "3fed722c-46fb-43ca-b6c7-7ea4eda5e98f",
   "metadata": {},
   "outputs": [
    {
     "name": "stdout",
     "output_type": "stream",
     "text": [
      "Bark!\n"
     ]
    }
   ],
   "source": [
    "class Animal:\n",
    "    def speak(self):\n",
    "        print(\"Some generic animal sound\")\n",
    "\n",
    "class Dog(Animal):\n",
    "    def speak(self):\n",
    "        print(\"Bark!\")\n",
    "\n",
    "# Example usage\n",
    "dog = Dog()\n",
    "dog.speak()  # Output: Bark!"
   ]
  },
  {
   "cell_type": "markdown",
   "id": "2532ba92-4d1f-406a-b3e2-3cf30014603b",
   "metadata": {},
   "source": [
    "# 27. Write a program to create an abstract class Shape with a method area()."
   ]
  },
  {
   "cell_type": "code",
   "execution_count": 42,
   "id": "50e674b2-56ea-4f47-adde-0ce3f4d73abb",
   "metadata": {},
   "outputs": [
    {
     "name": "stdout",
     "output_type": "stream",
     "text": [
      "Circle Area: 78.53981633974483\n",
      "Rectangle Area: 24\n"
     ]
    }
   ],
   "source": [
    "from abc import ABC, abstractmethod\n",
    "import math\n",
    "\n",
    "class Shape(ABC):\n",
    "    @abstractmethod\n",
    "    def area(self):\n",
    "        pass\n",
    "\n",
    "class Circle(Shape):\n",
    "    def __init__(self, radius):\n",
    "        self.radius = radius\n",
    "    \n",
    "    def area(self):\n",
    "        return math.pi * self.radius * self.radius\n",
    "\n",
    "class Rectangle(Shape):\n",
    "    def __init__(self, width, height):\n",
    "        self.width = width\n",
    "        self.height = height\n",
    "    \n",
    "    def area(self):\n",
    "        return self.width * self.height\n",
    "\n",
    "# Example usage\n",
    "circle = Circle(5)\n",
    "rectangle = Rectangle(4, 6)\n",
    "print(f\"Circle Area: {circle.area()}\")  # Output: Circle Area: 78.53981633974483\n",
    "print(f\"Rectangle Area: {rectangle.area()}\")  # Output: Rectangle Area: 24"
   ]
  },
  {
   "cell_type": "markdown",
   "id": "3b8bed8e-b297-49cf-9621-4bc05ed0d32d",
   "metadata": {},
   "source": [
    "# 28. Implement a multi-level inheritance scenario where a class Vehicle has an attribute type. Derive a class Car and further derive a class ElectricCar that adds a battery attribute."
   ]
  },
  {
   "cell_type": "code",
   "execution_count": 43,
   "id": "8536a05e-6f31-44a6-b9df-5e6a743e01f1",
   "metadata": {},
   "outputs": [
    {
     "name": "stdout",
     "output_type": "stream",
     "text": [
      "Electric Car Model: Tesla Model 3, Battery: 75 kWh\n"
     ]
    }
   ],
   "source": [
    "class Vehicle:\n",
    "    def __init__(self, type_of_vehicle):\n",
    "        self.type = type_of_vehicle\n",
    "\n",
    "class Car(Vehicle):\n",
    "    def __init__(self, type_of_vehicle, model):\n",
    "        super().__init__(type_of_vehicle)\n",
    "        self.model = model\n",
    "\n",
    "class ElectricCar(Car):\n",
    "    def __init__(self, type_of_vehicle, model, battery):\n",
    "        super().__init__(type_of_vehicle, model)\n",
    "        self.battery = battery\n",
    "\n",
    "# Example usage\n",
    "electric_car = ElectricCar(\"Electric\", \"Tesla Model 3\", \"75 kWh\")\n",
    "print(f\"Electric Car Model: {electric_car.model}, Battery: {electric_car.battery}\")  # Output: Electric Car Model: Tesla Model 3, Battery: 75 kWh"
   ]
  },
  {
   "cell_type": "markdown",
   "id": "5c76c9b8-92b4-4790-b247-723779991058",
   "metadata": {},
   "source": [
    "# 29. Write a program to demonstrate encapsulation by creating a class BankAccount with private attributes balance and methods to deposit, withdraw, and check balance."
   ]
  },
  {
   "cell_type": "code",
   "execution_count": 44,
   "id": "8b011bb2-8140-4171-b137-93e7c529e6a6",
   "metadata": {},
   "outputs": [
    {
     "name": "stdout",
     "output_type": "stream",
     "text": [
      "Balance: 1300\n"
     ]
    }
   ],
   "source": [
    "class BankAccount:\n",
    "    def __init__(self, balance):\n",
    "        self.__balance = balance  # Private attribute\n",
    "    \n",
    "    def deposit(self, amount):\n",
    "        self.__balance += amount\n",
    "    \n",
    "    def withdraw(self, amount):\n",
    "        if amount <= self.__balance:\n",
    "            self.__balance -= amount\n",
    "        else:\n",
    "            print(\"Insufficient funds\")\n",
    "    \n",
    "    def check_balance(self):\n",
    "        return self.__balance\n",
    "\n",
    "# Example usage\n",
    "account = BankAccount(1000)\n",
    "account.deposit(500)\n",
    "account.withdraw(200)\n",
    "print(f\"Balance: {account.check_balance()}\")  # Output: Balance: 1300"
   ]
  },
  {
   "cell_type": "markdown",
   "id": "88d24f05-1c42-4e03-9411-9d3a1244e9b5",
   "metadata": {},
   "source": [
    "# 30. Demonstrate runtime polymorphism using a method play() in a base class Instrument. Derive classes Guitar and Piano that implement their own version of play()."
   ]
  },
  {
   "cell_type": "code",
   "execution_count": 45,
   "id": "3a509ab3-2624-4ba1-b6f3-9d43ae7f9e7f",
   "metadata": {},
   "outputs": [
    {
     "name": "stdout",
     "output_type": "stream",
     "text": [
      "Playing guitar\n",
      "Playing piano\n"
     ]
    }
   ],
   "source": [
    "class Instrument:\n",
    "    def play(self):\n",
    "        raise NotImplementedError(\"Subclass must implement abstract method\")\n",
    "\n",
    "class Guitar(Instrument):\n",
    "    def play(self):\n",
    "        print(\"Playing guitar\")\n",
    "\n",
    "class Piano(Instrument):\n",
    "    def play(self):\n",
    "        print(\"Playing piano\")\n",
    "\n",
    "# Example usage\n",
    "guitar = Guitar()\n",
    "piano = Piano()\n",
    "\n",
    "def perform_instrument(instrument):\n",
    "    instrument.play()\n",
    "\n",
    "perform_instrument(guitar)  # Output: Playing guitar\n",
    "perform_instrument(piano)  # Output: Playing piano"
   ]
  },
  {
   "cell_type": "markdown",
   "id": "d3679e2e-9c18-4968-9410-a7f63cb59466",
   "metadata": {},
   "source": [
    "# 31. Create a class MathOperations with a class method add_numbers() to add two numbers and a static method subtract_numbers() to subtract two numbers."
   ]
  },
  {
   "cell_type": "code",
   "execution_count": 46,
   "id": "fc1bb2f2-8978-4fc8-9c06-462123b7e281",
   "metadata": {},
   "outputs": [
    {
     "name": "stdout",
     "output_type": "stream",
     "text": [
      "8\n",
      "2\n"
     ]
    }
   ],
   "source": [
    "class MathOperations:\n",
    "    @classmethod\n",
    "    def add_numbers(cls, a, b):\n",
    "        return a + b\n",
    "    \n",
    "    @staticmethod\n",
    "    def subtract_numbers(a, b):\n",
    "        return a - b\n",
    "\n",
    "# Example usage\n",
    "print(MathOperations.add_numbers(5, 3))  # Output: 8\n",
    "print(MathOperations.subtract_numbers(5, 3))  # Output: 2"
   ]
  },
  {
   "cell_type": "markdown",
   "id": "1de8eb16-bdb4-4892-9ee5-815362e0b2fb",
   "metadata": {},
   "source": [
    "# 32. Implement a class Person with a class method to count the total number of persons created."
   ]
  },
  {
   "cell_type": "code",
   "execution_count": 48,
   "id": "3add6280-c222-4a90-acd4-c3a00a483df7",
   "metadata": {},
   "outputs": [
    {
     "name": "stdout",
     "output_type": "stream",
     "text": [
      "2\n"
     ]
    }
   ],
   "source": [
    "class Person:\n",
    "    person_count = 0\n",
    "\n",
    "    def __init__(self, name):\n",
    "        self.name = name\n",
    "        Person.person_count += 1\n",
    "    \n",
    "    @classmethod\n",
    "    def total_persons(cls):\n",
    "        return cls.person_count\n",
    "\n",
    "# Example usage\n",
    "person1 = Person(\"Alice\")\n",
    "person2 = Person(\"Bob\")\n",
    "print(Person.total_persons())  # Output: 2"
   ]
  },
  {
   "cell_type": "markdown",
   "id": "04d1f61c-6c78-4ce4-b859-24f9a4e392c5",
   "metadata": {},
   "source": [
    "# 33. Write a class Fraction with attributes numerator and denominator. Override the str method to display the fraction as \"numerator/denominator\"."
   ]
  },
  {
   "cell_type": "code",
   "execution_count": 49,
   "id": "11d131d9-a6b0-4723-9514-234f4bcbd70d",
   "metadata": {},
   "outputs": [
    {
     "name": "stdout",
     "output_type": "stream",
     "text": [
      "3/4\n"
     ]
    }
   ],
   "source": [
    "class Fraction:\n",
    "    def __init__(self, numerator, denominator):\n",
    "        self.numerator = numerator\n",
    "        self.denominator = denominator\n",
    "    \n",
    "    def __str__(self):\n",
    "        return f\"{self.numerator}/{self.denominator}\"\n",
    "\n",
    "# Example usage\n",
    "fraction = Fraction(3, 4)\n",
    "print(fraction)  # Output: 3/4"
   ]
  },
  {
   "cell_type": "markdown",
   "id": "70bf8c6d-fcbf-4d94-9ed7-fa34ff5ba34d",
   "metadata": {},
   "source": [
    "# 34. Demonstrate operator overloading by creating a class Vector and overriding the add method to add two vectors."
   ]
  },
  {
   "cell_type": "code",
   "execution_count": 50,
   "id": "e03d48bc-f73d-4e07-84ef-035e71bf6e75",
   "metadata": {},
   "outputs": [
    {
     "name": "stdout",
     "output_type": "stream",
     "text": [
      "(4, 6)\n"
     ]
    }
   ],
   "source": [
    "class Vector:\n",
    "    def __init__(self, x, y):\n",
    "        self.x = x\n",
    "        self.y = y\n",
    "    \n",
    "    def __add__(self, other):\n",
    "        return Vector(self.x + other.x, self.y + other.y)\n",
    "    \n",
    "    def __str__(self):\n",
    "        return f\"({self.x}, {self.y})\"\n",
    "\n",
    "# Example usage\n",
    "v1 = Vector(1, 2)\n",
    "v2 = Vector(3, 4)\n",
    "result = v1 + v2\n",
    "print(result)  # Output: (4, 6)"
   ]
  },
  {
   "cell_type": "markdown",
   "id": "4eedea0a-4d27-40be-a6bb-a7338272e3a2",
   "metadata": {},
   "source": [
    "# 35. Create a class Person with attributes name and age. Add a method greet() that prints \"Hello, my name is {name} and I am {age} years old.\""
   ]
  },
  {
   "cell_type": "code",
   "execution_count": 51,
   "id": "eb0fc6a8-1b6c-4d87-94ed-7e753d44e287",
   "metadata": {},
   "outputs": [
    {
     "name": "stdout",
     "output_type": "stream",
     "text": [
      "Hello, my name is John and I am 30 years old.\n"
     ]
    }
   ],
   "source": [
    "class Person:\n",
    "    def __init__(self, name, age):\n",
    "        self.name = name\n",
    "        self.age = age\n",
    "    \n",
    "    def greet(self):\n",
    "        print(f\"Hello, my name is {self.name} and I am {self.age} years old.\")\n",
    "\n",
    "# Example usage\n",
    "person = Person(\"John\", 30)\n",
    "person.greet()  # Output: Hello, my name is John and I am 30 years old."
   ]
  },
  {
   "cell_type": "markdown",
   "id": "092ad534-3e3d-46e0-af13-afa47c5070cc",
   "metadata": {},
   "source": [
    "# 36. Implement a class Student with attributes name and grades. Create a method average_grade() to compute the average of the grades."
   ]
  },
  {
   "cell_type": "code",
   "execution_count": 52,
   "id": "f818c5a1-5eac-4952-b348-f0746d5ae3c3",
   "metadata": {},
   "outputs": [
    {
     "name": "stdout",
     "output_type": "stream",
     "text": [
      "Average grade: 86.25\n"
     ]
    }
   ],
   "source": [
    "class Student:\n",
    "    def __init__(self, name, grades):\n",
    "        self.name = name\n",
    "        self.grades = grades\n",
    "    \n",
    "    def average_grade(self):\n",
    "        return sum(self.grades) / len(self.grades)\n",
    "\n",
    "# Example usage\n",
    "student = Student(\"Alice\", [85, 90, 78, 92])\n",
    "print(f\"Average grade: {student.average_grade()}\")  # Output: Average grade: 86.25"
   ]
  },
  {
   "cell_type": "markdown",
   "id": "df3aeb34-4877-43db-8bb3-ae50e947eb7c",
   "metadata": {},
   "source": [
    "# 37. Create a class Rectangle with methods set_dimensions() to set the dimensions and area() to calculate the area."
   ]
  },
  {
   "cell_type": "code",
   "execution_count": 53,
   "id": "928ebbb4-7034-4167-8588-94acb8525d5b",
   "metadata": {},
   "outputs": [
    {
     "name": "stdout",
     "output_type": "stream",
     "text": [
      "Area: 24\n"
     ]
    }
   ],
   "source": [
    "class Rectangle:\n",
    "    def __init__(self):\n",
    "        self.width = 0\n",
    "        self.height = 0\n",
    "    \n",
    "    def set_dimensions(self, width, height):\n",
    "        self.width = width\n",
    "        self.height = height\n",
    "    \n",
    "    def area(self):\n",
    "        return self.width * self.height\n",
    "\n",
    "# Example usage\n",
    "rect = Rectangle()\n",
    "rect.set_dimensions(4, 6)\n",
    "print(f\"Area: {rect.area()}\")  # Output: Area: 24"
   ]
  },
  {
   "cell_type": "markdown",
   "id": "99b280fd-16e2-4dfa-83cd-4da3d8a63f08",
   "metadata": {},
   "source": [
    "# 38. Create a class Employee with a method calculate_salary() that computes the salary based on hours worked and hourly rate. Create a derived class Manager that adds a bonus to the salary."
   ]
  },
  {
   "cell_type": "code",
   "execution_count": 54,
   "id": "86e7e13f-abe0-4efc-a6a0-7d6cc6b1bf9b",
   "metadata": {},
   "outputs": [
    {
     "name": "stdout",
     "output_type": "stream",
     "text": [
      "Manager's Salary: 2500\n"
     ]
    }
   ],
   "source": [
    "class Employee:\n",
    "    def __init__(self, hours_worked, hourly_rate):\n",
    "        self.hours_worked = hours_worked\n",
    "        self.hourly_rate = hourly_rate\n",
    "    \n",
    "    def calculate_salary(self):\n",
    "        return self.hours_worked * self.hourly_rate\n",
    "\n",
    "class Manager(Employee):\n",
    "    def __init__(self, hours_worked, hourly_rate, bonus):\n",
    "        super().__init__(hours_worked, hourly_rate)\n",
    "        self.bonus = bonus\n",
    "    \n",
    "    def calculate_salary(self):\n",
    "        base_salary = super().calculate_salary()\n",
    "        return base_salary + self.bonus\n",
    "\n",
    "# Example usage\n",
    "manager = Manager(40, 50, 500)\n",
    "print(f\"Manager's Salary: {manager.calculate_salary()}\")  # Output: Manager's Salary: 2500"
   ]
  },
  {
   "cell_type": "markdown",
   "id": "d4309315-821d-4637-b0b5-95e7647db241",
   "metadata": {},
   "source": [
    "# 39. Create a class Product with attributes name, price, and quantity. Implement a method total_price() that calculates the total price of the product."
   ]
  },
  {
   "cell_type": "code",
   "execution_count": 55,
   "id": "6271d26a-a57f-44da-a930-342dfc7aa2f7",
   "metadata": {},
   "outputs": [
    {
     "name": "stdout",
     "output_type": "stream",
     "text": [
      "Total price: 3000\n"
     ]
    }
   ],
   "source": [
    "class Product:\n",
    "    def __init__(self, name, price, quantity):\n",
    "        self.name = name\n",
    "        self.price = price\n",
    "        self.quantity = quantity\n",
    "    \n",
    "    def total_price(self):\n",
    "        return self.price * self.quantity\n",
    "\n",
    "# Example usage\n",
    "product = Product(\"Laptop\", 1000, 3)\n",
    "print(f\"Total price: {product.total_price()}\")  # Output: Total price: 3000"
   ]
  },
  {
   "cell_type": "markdown",
   "id": "392a8689-ccd9-4524-8c88-ea0c5efadc69",
   "metadata": {},
   "source": [
    "# 40. Create a class Animal with an abstract method sound(). Create two derived classes Cow and Sheep that implement the sound() method."
   ]
  },
  {
   "cell_type": "code",
   "execution_count": 56,
   "id": "84691611-b7e8-405d-a5ce-3fac65e898e3",
   "metadata": {},
   "outputs": [
    {
     "name": "stdout",
     "output_type": "stream",
     "text": [
      "Moo\n",
      "Baa\n"
     ]
    }
   ],
   "source": [
    "class Animal(ABC):\n",
    "    @abstractmethod\n",
    "    def sound(self):\n",
    "        pass\n",
    "\n",
    "class Cow(Animal):\n",
    "    def sound(self):\n",
    "        print(\"Moo\")\n",
    "\n",
    "class Sheep(Animal):\n",
    "    def sound(self):\n",
    "        print(\"Baa\")\n",
    "\n",
    "# Example usage\n",
    "cow = Cow()\n",
    "sheep = Sheep()\n",
    "cow.sound()  # Output: Moo\n",
    "sheep.sound()  # Output: Baa"
   ]
  },
  {
   "cell_type": "markdown",
   "id": "0a89f51f-e5db-41e1-a48f-b88e0a584d3e",
   "metadata": {},
   "source": [
    "# 41. Create a class Book with attributes title, author, and year_published. Add a method get_book_info() that returns a formatted string with the book's details."
   ]
  },
  {
   "cell_type": "code",
   "execution_count": 57,
   "id": "8d6a3280-aedf-4690-a9bb-765e1ccdb74f",
   "metadata": {},
   "outputs": [
    {
     "name": "stdout",
     "output_type": "stream",
     "text": [
      "Title: The Great Gatsby, Author: F. Scott Fitzgerald, Year: 1925\n"
     ]
    }
   ],
   "source": [
    "class Book:\n",
    "    def __init__(self, title, author, year_published):\n",
    "        self.title = title\n",
    "        self.author = author\n",
    "        self.year_published = year_published\n",
    "    \n",
    "    def get_book_info(self):\n",
    "        return f\"Title: {self.title}, Author: {self.author}, Year: {self.year_published}\"\n",
    "\n",
    "# Example usage\n",
    "book = Book(\"The Great Gatsby\", \"F. Scott Fitzgerald\", 1925)\n",
    "print(book.get_book_info())  # Output: Title: The Great Gatsby, Author: F. Scott Fitzgerald, Year: 1925"
   ]
  },
  {
   "cell_type": "markdown",
   "id": "163f2b86-1c8a-44b3-bff2-f6563e306ac1",
   "metadata": {},
   "source": [
    "# 42. Create a class House with attributes address and price. Create a derived class Mansion that adds an attribute number_of_rooms."
   ]
  },
  {
   "cell_type": "code",
   "execution_count": 58,
   "id": "ed82d32c-11b4-4cc2-ad00-6531ddbb6fbd",
   "metadata": {},
   "outputs": [
    {
     "name": "stdout",
     "output_type": "stream",
     "text": [
      "Mansion at 123 Luxury St., Price: 5000000, Rooms: 10\n"
     ]
    }
   ],
   "source": [
    "class House:\n",
    "    def __init__(self, address, price):\n",
    "        self.address = address\n",
    "        self.price = price\n",
    "\n",
    "class Mansion(House):\n",
    "    def __init__(self, address, price, number_of_rooms):\n",
    "        super().__init__(address, price)\n",
    "        self.number_of_rooms = number_of_rooms\n",
    "\n",
    "# Example usage\n",
    "mansion = Mansion(\"123 Luxury St.\", 5000000, 10)\n",
    "print(f\"Mansion at {mansion.address}, Price: {mansion.price}, Rooms: {mansion.number_of_rooms}\")  \n",
    "# Output: Mansion at 123 Luxury St., Price: 5000000, Rooms: 10"
   ]
  }
 ],
 "metadata": {
  "kernelspec": {
   "display_name": "Python 3 (ipykernel)",
   "language": "python",
   "name": "python3"
  },
  "language_info": {
   "codemirror_mode": {
    "name": "ipython",
    "version": 3
   },
   "file_extension": ".py",
   "mimetype": "text/x-python",
   "name": "python",
   "nbconvert_exporter": "python",
   "pygments_lexer": "ipython3",
   "version": "3.13.1"
  }
 },
 "nbformat": 4,
 "nbformat_minor": 5
}
